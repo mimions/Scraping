{
 "cells": [
  {
   "cell_type": "code",
   "execution_count": 11,
   "metadata": {
    "collapsed": true
   },
   "outputs": [],
   "source": [
    "from urllib2 import urlopen\n",
    "from urllib import urlretrieve\n",
    "from bs4 import BeautifulSoup\n",
    "import csv\n",
    "import re"
   ]
  },
  {
   "cell_type": "code",
   "execution_count": 2,
   "metadata": {
    "collapsed": true
   },
   "outputs": [],
   "source": [
    "links = [\"http://www.trustile.com/products/panel-doors/ts-series\",\n",
    "        \"http://www.trustile.com/products/panel-doors/tm-series\",\n",
    "        \"http://www.trustile.com/products/panel-doors/vg-series\",\n",
    "        \"http://www.trustile.com/products/panel-doors/tmb-series\",\n",
    "        \"http://www.trustile.com/products/panel-doors/cd-series\",\n",
    "        \"http://www.trustile.com/products/glass-doors/fl-series\",\n",
    "        \"http://www.trustile.com/products/glass-doors/pl-series\"]"
   ]
  },
  {
   "cell_type": "code",
   "execution_count": 5,
   "metadata": {
    "collapsed": true
   },
   "outputs": [
    {
     "name": "stdout",
     "output_type": "stream",
     "text": [
      "7\n"
     ]
    },
    {
     "data": {
      "text/plain": [
       "[['/products/panel-doors/ts-series/ts1000',\n",
       "  '/products/panel-doors/ts-series/ts1010',\n",
       "  '/products/panel-doors/ts-series/ts1030',\n",
       "  '/products/panel-doors/ts-series/ts1050',\n",
       "  '/products/panel-doors/ts-series/ts2000',\n",
       "  '/products/panel-doors/ts-series/ts2010',\n",
       "  '/products/panel-doors/ts-series/ts2020',\n",
       "  '/products/panel-doors/ts-series/ts2030',\n",
       "  '/products/panel-doors/ts-series/ts2040',\n",
       "  '/products/panel-doors/ts-series/ts2050',\n",
       "  '/products/panel-doors/ts-series/ts2060',\n",
       "  '/products/panel-doors/ts-series/ts2070',\n",
       "  '/products/panel-doors/ts-series/ts2080',\n",
       "  '/products/panel-doors/ts-series/ts2090',\n",
       "  '/products/panel-doors/ts-series/ts2130',\n",
       "  '/products/panel-doors/ts-series/ts2160',\n",
       "  '/products/panel-doors/ts-series/ts2170',\n",
       "  '/products/panel-doors/ts-series/ts2180',\n",
       "  '/products/panel-doors/ts-series/ts2190',\n",
       "  '/products/panel-doors/ts-series/ts2200',\n",
       "  '/products/panel-doors/ts-series/ts2210',\n",
       "  '/products/panel-doors/ts-series/ts2220',\n",
       "  '/products/panel-doors/ts-series/ts2230',\n",
       "  '/products/panel-doors/ts-series/ts3000',\n",
       "  '/products/panel-doors/ts-series/ts3010',\n",
       "  '/products/panel-doors/ts-series/ts3020',\n",
       "  '/products/panel-doors/ts-series/ts3030',\n",
       "  '/products/panel-doors/ts-series/ts3040',\n",
       "  '/products/panel-doors/ts-series/ts3050',\n",
       "  '/products/panel-doors/ts-series/ts3060',\n",
       "  '/products/panel-doors/ts-series/ts3070',\n",
       "  '/products/panel-doors/ts-series/ts3080',\n",
       "  '/products/panel-doors/ts-series/ts3090',\n",
       "  '/products/panel-doors/ts-series/ts3100',\n",
       "  '/products/panel-doors/ts-series/ts3110',\n",
       "  '/products/panel-doors/ts-series/ts3120',\n",
       "  '/products/panel-doors/ts-series/ts3130',\n",
       "  '/products/panel-doors/ts-series/ts3140',\n",
       "  '/products/panel-doors/ts-series/ts3150',\n",
       "  '/products/panel-doors/ts-series/ts3160',\n",
       "  '/products/panel-doors/ts-series/ts3170',\n",
       "  '/products/panel-doors/ts-series/ts3180',\n",
       "  '/products/panel-doors/ts-series/ts3190',\n",
       "  '/products/panel-doors/ts-series/ts3210',\n",
       "  '/products/panel-doors/ts-series/ts3220',\n",
       "  '/products/panel-doors/ts-series/ts3230',\n",
       "  '/products/panel-doors/ts-series/ts3240',\n",
       "  '/products/panel-doors/ts-series/ts3250',\n",
       "  '/products/panel-doors/ts-series/ts3260',\n",
       "  '/products/panel-doors/ts-series/ts3270',\n",
       "  '/products/panel-doors/ts-series/ts3280',\n",
       "  '/products/panel-doors/ts-series/ts3290',\n",
       "  '/products/panel-doors/ts-series/ts3300',\n",
       "  '/products/panel-doors/ts-series/ts3310',\n",
       "  '/products/panel-doors/ts-series/ts3320',\n",
       "  '/products/panel-doors/ts-series/ts3330',\n",
       "  '/products/panel-doors/ts-series/ts3340',\n",
       "  '/products/panel-doors/ts-series/ts4000',\n",
       "  '/products/panel-doors/ts-series/ts4010',\n",
       "  '/products/panel-doors/ts-series/ts4020',\n",
       "  '/products/panel-doors/ts-series/ts4030',\n",
       "  '/products/panel-doors/ts-series/ts4040',\n",
       "  '/products/panel-doors/ts-series/ts4050',\n",
       "  '/products/panel-doors/ts-series/ts4060',\n",
       "  '/products/panel-doors/ts-series/ts4070',\n",
       "  '/products/panel-doors/ts-series/ts4100',\n",
       "  '/products/panel-doors/ts-series/ts4110',\n",
       "  '/products/panel-doors/ts-series/ts4120',\n",
       "  '/products/panel-doors/ts-series/ts4130',\n",
       "  '/products/panel-doors/ts-series/ts4140',\n",
       "  '/products/panel-doors/ts-series/ts4150',\n",
       "  '/products/panel-doors/ts-series/ts4170',\n",
       "  '/products/panel-doors/ts-series/ts4190',\n",
       "  '/products/panel-doors/ts-series/ts4200',\n",
       "  '/products/panel-doors/ts-series/ts4210',\n",
       "  '/products/panel-doors/ts-series/ts4220',\n",
       "  '/products/panel-doors/ts-series/ts4230',\n",
       "  '/products/panel-doors/ts-series/ts4240',\n",
       "  '/products/panel-doors/ts-series/ts4250',\n",
       "  '/products/panel-doors/ts-series/ts4260',\n",
       "  '/products/panel-doors/ts-series/ts4270',\n",
       "  '/products/panel-doors/ts-series/ts4280',\n",
       "  '/products/panel-doors/ts-series/ts5000',\n",
       "  '/products/panel-doors/ts-series/ts5010',\n",
       "  '/products/panel-doors/ts-series/ts5020',\n",
       "  '/products/panel-doors/ts-series/ts5030',\n",
       "  '/products/panel-doors/ts-series/ts5040',\n",
       "  '/products/panel-doors/ts-series/ts5050',\n",
       "  '/products/panel-doors/ts-series/ts5060',\n",
       "  '/products/panel-doors/ts-series/ts5070',\n",
       "  '/products/panel-doors/ts-series/ts5080',\n",
       "  '/products/panel-doors/ts-series/ts5090',\n",
       "  '/products/panel-doors/ts-series/ts5100',\n",
       "  '/products/panel-doors/ts-series/ts5110',\n",
       "  '/products/panel-doors/ts-series/ts5120',\n",
       "  '/products/panel-doors/ts-series/ts5130',\n",
       "  '/products/panel-doors/ts-series/ts5140',\n",
       "  '/products/panel-doors/ts-series/ts6000',\n",
       "  '/products/panel-doors/ts-series/ts6010',\n",
       "  '/products/panel-doors/ts-series/ts6020',\n",
       "  '/products/panel-doors/ts-series/ts6030',\n",
       "  '/products/panel-doors/ts-series/ts6040',\n",
       "  '/products/panel-doors/ts-series/ts6050',\n",
       "  '/products/panel-doors/ts-series/ts6070',\n",
       "  '/products/panel-doors/ts-series/ts6080',\n",
       "  '/products/panel-doors/ts-series/ts6090',\n",
       "  '/products/panel-doors/ts-series/ts6100',\n",
       "  '/products/panel-doors/ts-series/ts6110',\n",
       "  '/products/panel-doors/ts-series/ts6120',\n",
       "  '/products/panel-doors/ts-series/ts6130',\n",
       "  '/products/panel-doors/ts-series/ts6140',\n",
       "  '/products/panel-doors/ts-series/ts7000',\n",
       "  '/products/panel-doors/ts-series/ts7010',\n",
       "  '/products/panel-doors/ts-series/ts7020',\n",
       "  '/products/panel-doors/ts-series/ts8000',\n",
       "  '/products/panel-doors/ts-series/ts8010',\n",
       "  '/products/panel-doors/ts-series/ts8020',\n",
       "  '/products/panel-doors/ts-series/ts9000',\n",
       "  '/products/panel-doors/ts-series/ts9010'],\n",
       " ['/products/panel-doors/tm-series/tm9000',\n",
       "  '/products/panel-doors/tm-series/tm9100',\n",
       "  '/products/panel-doors/tm-series/tm9110',\n",
       "  '/products/panel-doors/tm-series/tm9120',\n",
       "  '/products/panel-doors/tm-series/tm9130',\n",
       "  '/products/panel-doors/tm-series/tm9140',\n",
       "  '/products/panel-doors/tm-series/tm9150',\n",
       "  '/products/panel-doors/tm-series/tm9160',\n",
       "  '/products/panel-doors/tm-series/tm9170',\n",
       "  '/products/panel-doors/tm-series/tm9200',\n",
       "  '/products/panel-doors/tm-series/tm9210',\n",
       "  '/products/panel-doors/tm-series/tm9220',\n",
       "  '/products/panel-doors/tm-series/tm9230',\n",
       "  '/products/panel-doors/tm-series/tm9240',\n",
       "  '/products/panel-doors/tm-series/tm9250',\n",
       "  '/products/panel-doors/tm-series/tm9260',\n",
       "  '/products/panel-doors/tm-series/tm9270',\n",
       "  '/products/panel-doors/tm-series/tm9300',\n",
       "  '/products/panel-doors/tm-series/tm9310',\n",
       "  '/products/panel-doors/tm-series/tm9320',\n",
       "  '/products/panel-doors/tm-series/tm9330',\n",
       "  '/products/panel-doors/tm-series/tm9340',\n",
       "  '/products/panel-doors/tm-series/tm9350',\n",
       "  '/products/panel-doors/tm-series/tm9400',\n",
       "  '/products/panel-doors/tm-series/tm9410',\n",
       "  '/products/panel-doors/tm-series/tm9420',\n",
       "  '/products/panel-doors/tm-series/tm9430',\n",
       "  '/products/panel-doors/tm-series/tm9440',\n",
       "  '/products/panel-doors/tm-series/tm13000',\n",
       "  '/products/panel-doors/tm-series/tm13100',\n",
       "  '/products/panel-doors/tm-series/tm13110',\n",
       "  '/products/panel-doors/tm-series/tm13120',\n",
       "  '/products/panel-doors/tm-series/tm13130',\n",
       "  '/products/panel-doors/tm-series/tm13140',\n",
       "  '/products/panel-doors/tm-series/tm13150',\n",
       "  '/products/panel-doors/tm-series/tm13160',\n",
       "  '/products/panel-doors/tm-series/tm13170',\n",
       "  '/products/panel-doors/tm-series/tm13200',\n",
       "  '/products/panel-doors/tm-series/tm13210',\n",
       "  '/products/panel-doors/tm-series/tm13220',\n",
       "  '/products/panel-doors/tm-series/tm13230',\n",
       "  '/products/panel-doors/tm-series/tm13240',\n",
       "  '/products/panel-doors/tm-series/tm13250',\n",
       "  '/products/panel-doors/tm-series/tm13260',\n",
       "  '/products/panel-doors/tm-series/tm13270',\n",
       "  '/products/panel-doors/tm-series/tm13300',\n",
       "  '/products/panel-doors/tm-series/tm13310',\n",
       "  '/products/panel-doors/tm-series/tm13320',\n",
       "  '/products/panel-doors/tm-series/tm13330',\n",
       "  '/products/panel-doors/tm-series/tm13340',\n",
       "  '/products/panel-doors/tm-series/tm13350',\n",
       "  '/products/panel-doors/tm-series/tm13360',\n",
       "  '/products/panel-doors/tm-series/tm13370',\n",
       "  '/products/panel-doors/tm-series/tm13400',\n",
       "  '/products/panel-doors/tm-series/tm13410',\n",
       "  '/products/panel-doors/tm-series/tm13420',\n",
       "  '/products/panel-doors/tm-series/tm13430',\n",
       "  '/products/panel-doors/tm-series/tm13440',\n",
       "  '/products/panel-doors/tm-series/tm1000',\n",
       "  '/products/panel-doors/tm-series/tm1020',\n",
       "  '/products/panel-doors/tm-series/tm1030',\n",
       "  '/products/panel-doors/tm-series/tm1040',\n",
       "  '/products/panel-doors/tm-series/tm2000',\n",
       "  '/products/panel-doors/tm-series/tm2100',\n",
       "  '/products/panel-doors/tm-series/tm3000',\n",
       "  '/products/panel-doors/tm-series/tm3080',\n",
       "  '/products/panel-doors/tm-series/tm3100',\n",
       "  '/products/panel-doors/tm-series/tm4000',\n",
       "  '/products/panel-doors/tm-series/tm4100',\n",
       "  '/products/panel-doors/tm-series/tm5000',\n",
       "  '/products/panel-doors/tm-series/tm5080',\n",
       "  '/products/panel-doors/tm-series/tm5100',\n",
       "  '/products/panel-doors/tm-series/tm6000',\n",
       "  '/products/panel-doors/tm-series/tm6100',\n",
       "  '/products/panel-doors/tm-series/tm8000',\n",
       "  '/products/panel-doors/tm-series/tm8100'],\n",
       " ['/products/panel-doors/vg-series/vg1000',\n",
       "  '/products/panel-doors/vg-series/vg1010',\n",
       "  '/products/panel-doors/vg-series/vg1020',\n",
       "  '/products/panel-doors/vg-series/vg1030',\n",
       "  '/products/panel-doors/vg-series/vg1040',\n",
       "  '/products/panel-doors/vg-series/vg2000',\n",
       "  '/products/panel-doors/vg-series/vg2010',\n",
       "  '/products/panel-doors/vg-series/vg2020',\n",
       "  '/products/panel-doors/vg-series/vg2030',\n",
       "  '/products/panel-doors/vg-series/vg2040',\n",
       "  '/products/panel-doors/vg-series/vg2070',\n",
       "  '/products/panel-doors/vg-series/vg2100',\n",
       "  '/products/panel-doors/vg-series/vg3000',\n",
       "  '/products/panel-doors/vg-series/vg3010',\n",
       "  '/products/panel-doors/vg-series/vg3020',\n",
       "  '/products/panel-doors/vg-series/vg3030',\n",
       "  '/products/panel-doors/vg-series/vg4000',\n",
       "  '/products/panel-doors/vg-series/vg4010',\n",
       "  '/products/panel-doors/vg-series/vg4020'],\n",
       " ['/products/panel-doors/tmb-series/tmb1000',\n",
       "  '/products/panel-doors/tmb-series/tmb1010',\n",
       "  '/products/panel-doors/tmb-series/tmb1030',\n",
       "  '/products/panel-doors/tmb-series/tmb1040',\n",
       "  '/products/panel-doors/tmb-series/tmb1050',\n",
       "  '/products/panel-doors/tmb-series/tmb1070',\n",
       "  '/products/panel-doors/tmb-series/tmb1080',\n",
       "  '/products/panel-doors/tmb-series/tmb1090',\n",
       "  '/products/panel-doors/tmb-series/tmb2000',\n",
       "  '/products/panel-doors/tmb-series/tmb2010',\n",
       "  '/products/panel-doors/tmb-series/tmb2030',\n",
       "  '/products/panel-doors/tmb-series/tmb2050',\n",
       "  '/products/panel-doors/tmb-series/tmb2080',\n",
       "  '/products/panel-doors/tmb-series/tmb3000',\n",
       "  '/products/panel-doors/tmb-series/tmb3010',\n",
       "  '/products/panel-doors/tmb-series/tmb3020',\n",
       "  '/products/panel-doors/tmb-series/tmb4250',\n",
       "  '/products/panel-doors/tmb-series/tmb4300',\n",
       "  '/products/panel-doors/tmb-series/tmb5200',\n",
       "  '/products/panel-doors/tmb-series/tmb6110',\n",
       "  '/products/panel-doors/tmb-series/tmb6120',\n",
       "  '/products/panel-doors/tmb-series/tmb8000'],\n",
       " ['/products/panel-doors/cd-series/ad1000',\n",
       "  '/products/panel-doors/cd-series/ad1010',\n",
       "  '/products/panel-doors/cd-series/ad1020',\n",
       "  '/products/panel-doors/cd-series/ad1030',\n",
       "  '/products/panel-doors/cd-series/ad1050',\n",
       "  '/products/panel-doors/cd-series/ad1060',\n",
       "  '/products/panel-doors/cd-series/ad1070',\n",
       "  '/products/panel-doors/cd-series/ad1100',\n",
       "  '/products/panel-doors/cd-series/ad1110',\n",
       "  '/products/panel-doors/cd-series/ad3000',\n",
       "  '/products/panel-doors/cd-series/ad3030',\n",
       "  '/products/panel-doors/cd-series/ashley',\n",
       "  '/products/panel-doors/cd-series/casablanca',\n",
       "  '/products/panel-doors/cd-series/celebrity',\n",
       "  '/products/panel-doors/cd-series/ellington',\n",
       "  '/products/panel-doors/cd-series/epic',\n",
       "  '/products/panel-doors/cd-series/monticello'],\n",
       " ['/products/glass-doors/fl-series/fl100',\n",
       "  '/products/glass-doors/fl-series/fl101',\n",
       "  '/products/glass-doors/fl-series/fl102',\n",
       "  '/products/glass-doors/fl-series/fl103',\n",
       "  '/products/glass-doors/fl-series/fl110',\n",
       "  '/products/glass-doors/fl-series/fl111',\n",
       "  '/products/glass-doors/fl-series/fl112',\n",
       "  '/products/glass-doors/fl-series/fl113',\n",
       "  '/products/glass-doors/fl-series/fl200',\n",
       "  '/products/glass-doors/fl-series/fl210',\n",
       "  '/products/glass-doors/fl-series/fl300',\n",
       "  '/products/glass-doors/fl-series/fl301',\n",
       "  '/products/glass-doors/fl-series/fl302',\n",
       "  '/products/glass-doors/fl-series/fl304',\n",
       "  '/products/glass-doors/fl-series/fl305',\n",
       "  '/products/glass-doors/fl-series/fl306',\n",
       "  '/products/glass-doors/fl-series/fl310',\n",
       "  '/products/glass-doors/fl-series/fl314',\n",
       "  '/products/glass-doors/fl-series/fl315',\n",
       "  '/products/glass-doors/fl-series/fl316',\n",
       "  '/products/glass-doors/fl-series/fl400',\n",
       "  '/products/glass-doors/fl-series/fl401',\n",
       "  '/products/glass-doors/fl-series/fl410',\n",
       "  '/products/glass-doors/fl-series/fl411',\n",
       "  '/products/glass-doors/fl-series/fl420',\n",
       "  '/products/glass-doors/fl-series/fl421',\n",
       "  '/products/glass-doors/fl-series/fl430',\n",
       "  '/products/glass-doors/fl-series/fl431',\n",
       "  '/products/glass-doors/fl-series/fl440',\n",
       "  '/products/glass-doors/fl-series/fl450',\n",
       "  '/products/glass-doors/fl-series/fl500',\n",
       "  '/products/glass-doors/fl-series/fl501',\n",
       "  '/products/glass-doors/fl-series/fl510',\n",
       "  '/products/glass-doors/fl-series/fl511',\n",
       "  '/products/glass-doors/fl-series/fl520',\n",
       "  '/products/glass-doors/fl-series/fl521',\n",
       "  '/products/glass-doors/fl-series/fl530',\n",
       "  '/products/glass-doors/fl-series/fl531',\n",
       "  '/products/glass-doors/fl-series/fl600',\n",
       "  '/products/glass-doors/fl-series/fl601',\n",
       "  '/products/glass-doors/fl-series/fl602',\n",
       "  '/products/glass-doors/fl-series/fl603',\n",
       "  '/products/glass-doors/fl-series/fl606',\n",
       "  '/products/glass-doors/fl-series/fl607',\n",
       "  '/products/glass-doors/fl-series/fl608',\n",
       "  '/products/glass-doors/fl-series/fl609',\n",
       "  '/products/glass-doors/fl-series/fl616',\n",
       "  '/products/glass-doors/fl-series/fl617',\n",
       "  '/products/glass-doors/fl-series/fl618',\n",
       "  '/products/glass-doors/fl-series/fl619',\n",
       "  '/products/glass-doors/fl-series/fl800',\n",
       "  '/products/glass-doors/fl-series/fl810',\n",
       "  '/products/glass-doors/fl-series/fl820',\n",
       "  '/products/glass-doors/fl-series/fl821',\n",
       "  '/products/glass-doors/fl-series/fl830',\n",
       "  '/products/glass-doors/fl-series/fl831',\n",
       "  '/products/glass-doors/fl-series/fl840',\n",
       "  '/products/glass-doors/fl-series/fl841',\n",
       "  '/products/glass-doors/fl-series/fl850',\n",
       "  '/products/glass-doors/fl-series/fl900',\n",
       "  '/products/glass-doors/fl-series/fl901',\n",
       "  '/products/glass-doors/fl-series/fl1000',\n",
       "  '/products/glass-doors/fl-series/fl1001',\n",
       "  '/products/glass-doors/fl-series/fl1010',\n",
       "  '/products/glass-doors/fl-series/fl1011',\n",
       "  '/products/glass-doors/fl-series/fl1020',\n",
       "  '/products/glass-doors/fl-series/fl1021',\n",
       "  '/products/glass-doors/fl-series/fl1030',\n",
       "  '/products/glass-doors/fl-series/fl1040',\n",
       "  '/products/glass-doors/fl-series/fl1041',\n",
       "  '/products/glass-doors/fl-series/fl1200',\n",
       "  '/products/glass-doors/fl-series/fl1210',\n",
       "  '/products/glass-doors/fl-series/fl1220',\n",
       "  '/products/glass-doors/fl-series/fl1221',\n",
       "  '/products/glass-doors/fl-series/fl1230',\n",
       "  '/products/glass-doors/fl-series/fl1231',\n",
       "  '/products/glass-doors/fl-series/fl1240',\n",
       "  '/products/glass-doors/fl-series/fl1241',\n",
       "  '/products/glass-doors/fl-series/fl1250',\n",
       "  '/products/glass-doors/fl-series/fl1300',\n",
       "  '/products/glass-doors/fl-series/fl1310',\n",
       "  '/products/glass-doors/fl-series/fl1400',\n",
       "  '/products/glass-doors/fl-series/fl1500',\n",
       "  '/products/glass-doors/fl-series/fl1501',\n",
       "  '/products/glass-doors/fl-series/fl1510',\n",
       "  '/products/glass-doors/fl-series/fl1511',\n",
       "  '/products/glass-doors/fl-series/fl1520',\n",
       "  '/products/glass-doors/fl-series/fl1521',\n",
       "  '/products/glass-doors/fl-series/fl1530',\n",
       "  '/products/glass-doors/fl-series/fl1531',\n",
       "  '/products/glass-doors/fl-series/fl1540',\n",
       "  '/products/glass-doors/fl-series/fl1800',\n",
       "  '/products/glass-doors/fl-series/fl1801',\n",
       "  '/products/glass-doors/fl-series/fl1810',\n",
       "  '/products/glass-doors/fl-series/fl1811',\n",
       "  '/products/glass-doors/fl-series/fl1820',\n",
       "  '/products/glass-doors/fl-series/fl1821',\n",
       "  '/products/glass-doors/fl-series/fl1830',\n",
       "  '/products/glass-doors/fl-series/fl1831'],\n",
       " ['/products/glass-doors/pl-series/pl100',\n",
       "  '/products/glass-doors/pl-series/pl104',\n",
       "  '/products/glass-doors/pl-series/pl106',\n",
       "  '/products/glass-doors/pl-series/pl109',\n",
       "  '/products/glass-doors/pl-series/pl119',\n",
       "  '/products/glass-doors/pl-series/pl130',\n",
       "  '/products/glass-doors/pl-series/pl132',\n",
       "  '/products/glass-doors/pl-series/pl134',\n",
       "  '/products/glass-doors/pl-series/pl136',\n",
       "  '/products/glass-doors/pl-series/pl143',\n",
       "  '/products/glass-doors/pl-series/pl144',\n",
       "  '/products/glass-doors/pl-series/pl145',\n",
       "  '/products/glass-doors/pl-series/pl146',\n",
       "  '/products/glass-doors/pl-series/pl200',\n",
       "  '/products/glass-doors/pl-series/pl202',\n",
       "  '/products/glass-doors/pl-series/pl204',\n",
       "  '/products/glass-doors/pl-series/pl206',\n",
       "  '/products/glass-doors/pl-series/pl209',\n",
       "  '/products/glass-doors/pl-series/pl219',\n",
       "  '/products/glass-doors/pl-series/pl220',\n",
       "  '/products/glass-doors/pl-series/pl224',\n",
       "  '/products/glass-doors/pl-series/pl226',\n",
       "  '/products/glass-doors/pl-series/pl229',\n",
       "  '/products/glass-doors/pl-series/pl230',\n",
       "  '/products/glass-doors/pl-series/pl232',\n",
       "  '/products/glass-doors/pl-series/pl233',\n",
       "  '/products/glass-doors/pl-series/pl234',\n",
       "  '/products/glass-doors/pl-series/pl236',\n",
       "  '/products/glass-doors/pl-series/pl243',\n",
       "  '/products/glass-doors/pl-series/pl244',\n",
       "  '/products/glass-doors/pl-series/pl300',\n",
       "  '/products/glass-doors/pl-series/pl304',\n",
       "  '/products/glass-doors/pl-series/pl306',\n",
       "  '/products/glass-doors/pl-series/pl309',\n",
       "  '/products/glass-doors/pl-series/pl319',\n",
       "  '/products/glass-doors/pl-series/pl330',\n",
       "  '/products/glass-doors/pl-series/pl332',\n",
       "  '/products/glass-doors/pl-series/pl333',\n",
       "  '/products/glass-doors/pl-series/pl334',\n",
       "  '/products/glass-doors/pl-series/pl336',\n",
       "  '/products/glass-doors/pl-series/pl343',\n",
       "  '/products/glass-doors/pl-series/pl344',\n",
       "  '/products/glass-doors/pl-series/pl400',\n",
       "  '/products/glass-doors/pl-series/pl404',\n",
       "  '/products/glass-doors/pl-series/pl406',\n",
       "  '/products/glass-doors/pl-series/pl409',\n",
       "  '/products/glass-doors/pl-series/pl410',\n",
       "  '/products/glass-doors/pl-series/pl443',\n",
       "  '/products/glass-doors/pl-series/pl444']]"
      ]
     },
     "execution_count": 5,
     "metadata": {},
     "output_type": "execute_result"
    }
   ],
   "source": [
    "Doors = []\n",
    "for p in range(len(links)):\n",
    "    # get webpage of each door series\n",
    "    # and make structured data using BeautifulSoup\n",
    "    link = links[p]\n",
    "    soup = BeautifulSoup(urlopen(link).read())\n",
    "    \n",
    "    aList = []\n",
    "    for url in soup.findAll('a'):\n",
    "        try:\n",
    "            urlClass = url.get('class')\n",
    "            if urlClass[0]==\"gridview\":\n",
    "                aList.append(url.get('href'))\n",
    "#             print url.get('href')\n",
    "            \n",
    "        except:\n",
    "            pass\n",
    "    Doors.append(aList)\n",
    "print len(Doors)\n",
    "Doors"
   ]
  },
  {
   "cell_type": "code",
   "execution_count": 4,
   "metadata": {
    "collapsed": true
   },
   "outputs": [],
   "source": [
    "base_url = \"http://www.trustile.com/\"\n",
    "def make_url(str):\n",
    "    return base_url + str"
   ]
  },
  {
   "cell_type": "code",
   "execution_count": 6,
   "metadata": {
    "collapsed": true
   },
   "outputs": [],
   "source": [
    "def make_soup(url):\n",
    "    html = urlopen(url).read()\n",
    "    return BeautifulSoup(html)"
   ]
  },
  {
   "cell_type": "code",
   "execution_count": 7,
   "metadata": {
    "collapsed": true
   },
   "outputs": [],
   "source": [
    "def get_images(field):\n",
    "    # get all types of images of this door model\n",
    "    div = field.find('div',attrs={\"class\":\"doorthumbs\"})\n",
    "    \n",
    "    for a in div.findAll('a'):\n",
    "        \n",
    "        print a.get('alt')\n",
    "        print a.get('href')\n",
    "        \n",
    "    return images"
   ]
  },
  {
   "cell_type": "code",
   "execution_count": 55,
   "metadata": {
    "collapsed": false,
    "scrolled": true
   },
   "outputs": [],
   "source": [
    "# stopped at TM series because url structures are not the same\n",
    "# suitable for TS series and other series except TM\n",
    "\n",
    "# error at FL series \n",
    "# fl1300 different url structure\n",
    "\n",
    "for i in [6]:\n",
    "    pathDirectory = \"C:\\Users\\jason\\Documents\\GitHub\\Scraping\\%d\" % i\n",
    "    for j in range(len(Doors[i])):\n",
    "        soup = make_soup(make_url(Doors[i][j]))\n",
    "    \n",
    "        fields = soup.findAll('fieldset')\n",
    "        for field in fields:\n",
    "            if field.legend.span.string == \"Overview\":\n",
    "                div = field.find('div',attrs={\"class\":\"doorthumbs\"})\n",
    "                for a in div.findAll('a'):\n",
    "                    url = a.get('href')\n",
    "                    try:\n",
    "                        imageName = re.search('(?<=doors/).*',url).group()\n",
    "                        try:\n",
    "                            imageName = re.search('(?<=./).*',imageName).group()\n",
    "                        except:\n",
    "                            pass\n",
    "                    except:\n",
    "                        print url\n",
    "                        pass\n",
    "                    path = pathDirectory + \"\\%s\" % imageName\n",
    "                    urlretrieve(url,path)"
   ]
  },
  {
   "cell_type": "code",
   "execution_count": 50,
   "metadata": {
    "collapsed": true
   },
   "outputs": [],
   "source": [
    "# for TM series only\n",
    "for i in range(1,2):\n",
    "    pathDirectory = \"C:\\Users\\jason\\Documents\\GitHub\\Scraping\\%d\" % i\n",
    "    for j in range(len(Doors[i])):\n",
    "        soup = make_soup(make_url(Doors[i][j]))\n",
    "    \n",
    "        fields = soup.findAll('fieldset')\n",
    "        for field in fields:\n",
    "            if field.legend.span.string == \"Overview\":\n",
    "                div = field.find('div',attrs={\"class\":\"doorthumbs\"})\n",
    "                for a in div.findAll('a'):\n",
    "                    url = a.get('href')\n",
    "                    imageName = re.search('(?<=images/).*',url).group()\n",
    "                    try:\n",
    "                        imageName = re.search('(?<=./).*',imageName).group()\n",
    "                    except:\n",
    "                        pass\n",
    "                    path = pathDirectory + \"\\%s\" % imageName\n",
    "                    urlretrieve(url,path)"
   ]
  },
  {
   "cell_type": "code",
   "execution_count": 59,
   "metadata": {
    "collapsed": false
   },
   "outputs": [],
   "source": [
    "# LVR series\n",
    "pathDirectory = \"C:\\Users\\jason\\Documents\\GitHub\\Scraping\\Images\\Trustile LVR DoorImages\"\n",
    "\n",
    "lvrList = [\"http://www.trustile.com/products/lvr-series/lvr1000\",\n",
    "          \"http://www.trustile.com/products/lvr-series/lvr2020\",\n",
    "          \"http://www.trustile.com/products/lvr-series/lvr2060\",\n",
    "          \"http://www.trustile.com/products/lvr-series/lvr3000\"]\n",
    "\n",
    "for link in lvrList:\n",
    "    soup = make_soup(link)\n",
    "    fields = soup.findAll('fieldset')\n",
    "    for field in fields:\n",
    "        if field.legend.span.string == \"Overview\":\n",
    "            div = field.find('div',attrs={\"class\":\"doorthumbs\"})\n",
    "            for a in div.findAll('a'):\n",
    "                url = a.get('href')\n",
    "                \n",
    "                try:\n",
    "                    imageName = re.search('(?<=doors/).*',url).group()\n",
    "                    try:\n",
    "                        imageName = re.search('(?<=./).*',imageName).group()\n",
    "                    except:\n",
    "                        pass\n",
    "                except:\n",
    "                    print url\n",
    "                    pass\n",
    "                path = pathDirectory + \"\\%s\" % imageName\n",
    "                urlretrieve(url,path)"
   ]
  },
  {
   "cell_type": "markdown",
   "metadata": {},
   "source": [
    "##OPTIONS: WOOD, LEATHER, METAL, GLASS"
   ]
  },
  {
   "cell_type": "code",
   "execution_count": 1,
   "metadata": {
    "collapsed": true
   },
   "outputs": [],
   "source": [
    "import pandas as pd"
   ]
  },
  {
   "cell_type": "code",
   "execution_count": 2,
   "metadata": {
    "collapsed": false
   },
   "outputs": [],
   "source": [
    "df = pd.read_csv(\"TrustileWoodSpecies.csv\")\n",
    "woods = df.URL.values"
   ]
  },
  {
   "cell_type": "code",
   "execution_count": 3,
   "metadata": {
    "collapsed": false
   },
   "outputs": [
    {
     "data": {
      "text/plain": [
       "array([ 'http://www.trustile.com/sites/trustile.com/files/styles/gallery_large/public/materials/wood/bamboo_0.jpg?itok=1hh8A6KA',\n",
       "       'http://www.trustile.com/sites/trustile.com/files/styles/gallery_large/public/materials/wood/birch.jpg?itok=1bPKELd1',\n",
       "       'http://www.trustile.com/sites/trustile.com/files/styles/gallery_large/public/materials/wood/cherry.jpg?itok=13Uv6U1u',\n",
       "       'http://www.trustile.com/sites/trustile.com/files/styles/gallery_large/public/materials/wood/pine.jpg?itok=ayxYlZPA',\n",
       "       'http://www.trustile.com/sites/trustile.com/files/styles/gallery_large/public/materials/wood/pine-wb.jpg?itok=1_souW9b',\n",
       "       'http://www.trustile.com/sites/trustile.com/files/styles/gallery_large/public/materials/wood/douglas-fir.jpg?itok=TR7YjwVa',\n",
       "       'http://www.trustile.com/sites/trustile.com/files/styles/gallery_large/public/materials/wood/douglas-fir-wb.jpg?itok=XYok9dlQ',\n",
       "       'http://www.trustile.com/sites/trustile.com/files/styles/gallery_large/public/materials/wood/hickory.jpg?itok=jI0hUYfM',\n",
       "       'http://www.trustile.com/sites/trustile.com/files/styles/gallery_large/public/materials/wood/alder-knotty.jpg?itok=v9oCesS5',\n",
       "       'http://www.trustile.com/sites/trustile.com/files/styles/gallery_large/public/materials/wood/lvl.jpg?itok=ZvSDtW0G',\n",
       "       'http://www.trustile.com/sites/trustile.com/files/styles/gallery_large/public/materials/wood/mahogany.jpg?itok=QsN_Tn1U',\n",
       "       'http://www.trustile.com/sites/trustile.com/files/styles/gallery_large/public/materials/wood/poplar.jpg?itok=T5HXUY05',\n",
       "       'http://www.trustile.com/sites/trustile.com/files/styles/gallery_large/public/materials/wood/red-oak.jpg?itok=Lc9-EDeU',\n",
       "       'http://www.trustile.com/sites/trustile.com/files/styles/gallery_large/public/materials/wood/red-oak-wb.jpg?itok=pH2a66jR',\n",
       "       'http://www.trustile.com/sites/trustile.com/files/styles/gallery_large/public/materials/wood/alder-select.jpg?itok=uc1t0ZxF',\n",
       "       'http://www.trustile.com/sites/trustile.com/files/styles/gallery_large/public/materials/wood/walnut.jpg?itok=d0b-5PvM',\n",
       "       'http://www.trustile.com/sites/trustile.com/files/styles/gallery_large/public/materials/wood/wenge.jpg?itok=1YksnClw',\n",
       "       'http://www.trustile.com/sites/trustile.com/files/styles/gallery_large/public/materials/wood/maple.jpg?itok=OhyIDqa7',\n",
       "       'http://www.trustile.com/sites/trustile.com/files/styles/gallery_large/public/materials/wood/white-oak-qs_0.jpg?itok=S_KMFs_q',\n",
       "       'http://www.trustile.com/sites/trustile.com/files/styles/gallery_large/public/materials/wood/white-oak-wb.jpg?itok=eq5GTRHM'], dtype=object)"
      ]
     },
     "execution_count": 3,
     "metadata": {},
     "output_type": "execute_result"
    }
   ],
   "source": [
    "woods"
   ]
  },
  {
   "cell_type": "code",
   "execution_count": 18,
   "metadata": {
    "collapsed": false
   },
   "outputs": [],
   "source": [
    "pathDirectory = \"C:\\Users\\jason\\Documents\\GitHub\\Scraping\\Images\\Wood\"\n",
    "for url in woods:\n",
    "    imageName =  re.search('(?<=wood/).*(?=\\?)',url).group()\n",
    "#     print imageName\n",
    "    path = pathDirectory + \"\\%s\" % imageName\n",
    "    urlretrieve(url,path)"
   ]
  },
  {
   "cell_type": "code",
   "execution_count": 4,
   "metadata": {
    "collapsed": true
   },
   "outputs": [],
   "source": [
    "df = pd.read_csv(\"TrustileGlass.csv\")\n",
    "glass = df.URL.values"
   ]
  },
  {
   "cell_type": "code",
   "execution_count": 5,
   "metadata": {
    "collapsed": false
   },
   "outputs": [
    {
     "data": {
      "text/plain": [
       "array([ 'http://www.trustile.com/sites/trustile.com/files/styles/gallery_large/public/materials/glass/clear.jpg?itok=7ID9_B_i',\n",
       "       'http://www.trustile.com/sites/trustile.com/files/styles/gallery_large/public/materials/glass/bevel.jpg?itok=ufVGmLSe',\n",
       "       'http://www.trustile.com/sites/trustile.com/files/styles/gallery_large/public/materials/glass/white-lami.jpg?itok=VX3B4BNO',\n",
       "       'http://www.trustile.com/sites/trustile.com/files/styles/gallery_large/public/materials/glass/frosted.jpg?itok=ykvNa1A_',\n",
       "       'http://www.trustile.com/sites/trustile.com/files/styles/gallery_large/public/materials/glass/wave.jpg?itok=jxSqoeZK',\n",
       "       'http://www.trustile.com/sites/trustile.com/files/styles/gallery_large/public/materials/glass/ripple.jpg?itok=CAbGIfxr',\n",
       "       'http://www.trustile.com/sites/trustile.com/files/styles/gallery_large/public/materials/glass/quadra.jpg?itok=2BwT23jA',\n",
       "       'http://www.trustile.com/sites/trustile.com/files/styles/gallery_large/public/materials/glass/dash.jpg?itok=j2YD-ISO',\n",
       "       'http://www.trustile.com/sites/trustile.com/files/styles/gallery_large/public/materials/glass/river-ice.jpg?itok=U47MAMgu',\n",
       "       'http://www.trustile.com/sites/trustile.com/files/styles/gallery_large/public/materials/glass/arctic.jpg?itok=k48QhdzV',\n",
       "       'http://www.trustile.com/sites/trustile.com/files/styles/gallery_large/public/materials/glass/seedy-wash.jpg?itok=s7jdyLjA',\n",
       "       'http://www.trustile.com/sites/trustile.com/files/styles/gallery_large/public/materials/glass/glue-chip.jpg?itok=EpnvecYV',\n",
       "       'http://www.trustile.com/sites/trustile.com/files/styles/gallery_large/public/materials/glass/obscure.jpg?itok=J8Xp51ia',\n",
       "       'http://www.trustile.com/sites/trustile.com/files/styles/gallery_large/public/materials/glass/delta-frost.jpg?itok=nyMVkEdQ',\n",
       "       'http://www.trustile.com/sites/trustile.com/files/styles/gallery_large/public/materials/glass/whirl.jpg?itok=51-2nF7Q',\n",
       "       'http://www.trustile.com/sites/trustile.com/files/styles/gallery_large/public/materials/glass/satin-barcode.jpg?itok=C0NmblqB',\n",
       "       'http://www.trustile.com/sites/trustile.com/files/styles/gallery_large/public/materials/glass/rain.jpg?itok=J4XgxrtK',\n",
       "       'http://www.trustile.com/sites/trustile.com/files/styles/gallery_large/public/materials/glass/flow.jpg?itok=TUWNz5bw',\n",
       "       'http://www.trustile.com/sites/trustile.com/files/styles/gallery_large/public/materials/glass/pinstripe.jpg?itok=evG0I82j',\n",
       "       'http://www.trustile.com/sites/trustile.com/files/styles/gallery_large/public/materials/glass/tuxedo.jpg?itok=vGmsScgD',\n",
       "       'http://www.trustile.com/sites/trustile.com/files/styles/gallery_large/public/materials/glass/brushed.jpg?itok=IshNe2OL',\n",
       "       'http://www.trustile.com/sites/trustile.com/files/styles/gallery_large/public/materials/glass/spun.jpg?itok=AQZz-Fgp',\n",
       "       'http://www.trustile.com/sites/trustile.com/files/styles/gallery_large/public/materials/glass/shoji.jpg?itok=KWjCm6kx',\n",
       "       'http://www.trustile.com/sites/trustile.com/files/styles/gallery_large/public/materials/glass/groove.jpg?itok=QktZvreJ',\n",
       "       'http://www.trustile.com/sites/trustile.com/files/styles/gallery_large/public/materials/glass/narrow-reed.jpg?itok=Qy5yFQuY',\n",
       "       'http://www.trustile.com/sites/trustile.com/files/styles/gallery_large/public/materials/glass/reeded.jpg?itok=b_6JsRVn',\n",
       "       'http://www.trustile.com/sites/trustile.com/files/styles/gallery_large/public/materials/glass/bronze-fibers-mirror.jpg?itok=s8zkJ7FJ',\n",
       "       'http://www.trustile.com/sites/trustile.com/files/styles/gallery_large/public/materials/glass/silver-crystal-mirror.jpg?itok=LZK10VHN',\n",
       "       'http://www.trustile.com/sites/trustile.com/files/styles/gallery_large/public/materials/glass/bamboo-rings.jpg?itok=Sgbh0NdJ',\n",
       "       'http://www.trustile.com/sites/trustile.com/files/styles/gallery_large/public/materials/glass/capiz.jpg?itok=eUxH6_oj',\n",
       "       'http://www.trustile.com/sites/trustile.com/files/styles/gallery_large/public/materials/glass/cirque.jpg?itok=9N7bSYji',\n",
       "       'http://www.trustile.com/sites/trustile.com/files/styles/gallery_large/public/materials/glass/connection-envy.jpg?itok=vM5KbafM',\n",
       "       'http://www.trustile.com/sites/trustile.com/files/styles/gallery_large/public/materials/glass/fossil.jpg?itok=Jg3YWYOA',\n",
       "       'http://www.trustile.com/sites/trustile.com/files/styles/gallery_large/public/materials/glass/gingko-thatch.jpg?itok=qrjseF9S',\n",
       "       'http://www.trustile.com/sites/trustile.com/files/styles/gallery_large/public/materials/glass/papercut.jpg?itok=bFC8k4kA',\n",
       "       'http://www.trustile.com/sites/trustile.com/files/styles/gallery_large/public/materials/glass/thatch-50.jpg?itok=ZSZiSTb0',\n",
       "       'http://www.trustile.com/sites/trustile.com/files/styles/gallery_large/public/materials/glass/ting-ting.jpg?itok=WstF8DLF'], dtype=object)"
      ]
     },
     "execution_count": 5,
     "metadata": {},
     "output_type": "execute_result"
    }
   ],
   "source": [
    "glass"
   ]
  },
  {
   "cell_type": "code",
   "execution_count": 28,
   "metadata": {
    "collapsed": false
   },
   "outputs": [],
   "source": [
    "pathDirectory = \"C:\\Users\\jason\\Documents\\GitHub\\Scraping\\Images\\Glass\"\n",
    "for url in glass:\n",
    "    imageName =  re.search('(?<=glass/).*(?=\\?)',url).group()\n",
    "#     print imageName\n",
    "    path = pathDirectory + \"\\%s\" % imageName\n",
    "    urlretrieve(url,path)"
   ]
  },
  {
   "cell_type": "code",
   "execution_count": 6,
   "metadata": {
    "collapsed": true
   },
   "outputs": [],
   "source": [
    "df = pd.read_csv(\"TrustileLeather.csv\")\n",
    "leather = df.URL.values"
   ]
  },
  {
   "cell_type": "code",
   "execution_count": 8,
   "metadata": {
    "collapsed": false
   },
   "outputs": [
    {
     "data": {
      "text/plain": [
       "array([ 'http://www.trustile.com/sites/trustile.com/files/styles/gallery_large/public/materials/leather/croc-black.jpg?itok=J2ke_bn_',\n",
       "       'http://www.trustile.com/sites/trustile.com/files/styles/gallery_large/public/materials/leather/croc-marble.jpg?itok=hPQVdO3Z',\n",
       "       'http://www.trustile.com/sites/trustile.com/files/styles/gallery_large/public/materials/leather/croc-nuts.jpg?itok=4vVEiZXf',\n",
       "       'http://www.trustile.com/sites/trustile.com/files/styles/gallery_large/public/materials/leather/shagreen-caviar.jpg?itok=-dUK6CL_',\n",
       "       'http://www.trustile.com/sites/trustile.com/files/styles/gallery_large/public/materials/leather/shagreen-couscous.jpg?itok=c07qtVv5',\n",
       "       'http://www.trustile.com/sites/trustile.com/files/styles/gallery_large/public/materials/leather/shagreen-grey-oyster.jpg?itok=kqfbQ9MS',\n",
       "       'http://www.trustile.com/sites/trustile.com/files/styles/gallery_large/public/materials/leather/sulky-bridle.jpg?itok=QdPE9qJi',\n",
       "       'http://www.trustile.com/sites/trustile.com/files/styles/gallery_large/public/materials/leather/sulky-grey-mare.jpg?itok=v4SwCgh5',\n",
       "       'http://www.trustile.com/sites/trustile.com/files/styles/gallery_large/public/materials/leather/sulky-marmalade.jpg?itok=z4qwUiST',\n",
       "       'http://www.trustile.com/sites/trustile.com/files/styles/gallery_large/public/materials/leather/oak.jpg?itok=oGrtbs3J',\n",
       "       'http://www.trustile.com/sites/trustile.com/files/styles/gallery_large/public/materials/leather/old-cherry.jpg?itok=Y5HptzOL',\n",
       "       'http://www.trustile.com/sites/trustile.com/files/styles/gallery_large/public/materials/leather/pampas.jpg?itok=C4AhXaGE'], dtype=object)"
      ]
     },
     "execution_count": 8,
     "metadata": {},
     "output_type": "execute_result"
    }
   ],
   "source": [
    "leather"
   ]
  },
  {
   "cell_type": "code",
   "execution_count": 29,
   "metadata": {
    "collapsed": true
   },
   "outputs": [],
   "source": [
    "pathDirectory = \"C:\\Users\\jason\\Documents\\GitHub\\Scraping\\Images\\Leather\"\n",
    "for url in leather:\n",
    "    imageName =  re.search('(?<=leather/).*(?=\\?)',url).group()\n",
    "#     print imageName\n",
    "    path = pathDirectory + \"\\%s\" % imageName\n",
    "    urlretrieve(url,path)"
   ]
  },
  {
   "cell_type": "code",
   "execution_count": 9,
   "metadata": {
    "collapsed": true
   },
   "outputs": [],
   "source": [
    "df = pd.read_csv(\"TrustileMetal.csv\")\n",
    "metal = df.URL.values"
   ]
  },
  {
   "cell_type": "code",
   "execution_count": 10,
   "metadata": {
    "collapsed": false
   },
   "outputs": [
    {
     "data": {
      "text/plain": [
       "array([ 'http://www.trustile.com/sites/trustile.com/files/styles/gallery_large/public/materials/metal/metal-brushed-aluminum.jpg?itok=HykxkX77',\n",
       "       'http://www.trustile.com/sites/trustile.com/files/styles/gallery_large/public/materials/metal/metal-brushed-brass.jpg?itok=uG5foHyU',\n",
       "       'http://www.trustile.com/sites/trustile.com/files/styles/gallery_large/public/materials/metal/metal-brushed-bronze.jpg?itok=9_5fe7v0',\n",
       "       'http://www.trustile.com/sites/trustile.com/files/styles/gallery_large/public/materials/metal/metal-hammered-argenta.jpg?itok=bYf8yup8',\n",
       "       'http://www.trustile.com/sites/trustile.com/files/styles/gallery_large/public/materials/metal/metal-hammered-cobblestone.jpg?itok=G60gJ6MJ',\n",
       "       'http://www.trustile.com/sites/trustile.com/files/styles/gallery_large/public/materials/metal/metal-hammered-reptilian.jpg?itok=XUvFmSEZ',\n",
       "       'http://www.trustile.com/sites/trustile.com/files/styles/gallery_large/public/materials/metal/metal-patina-aurora.jpg?itok=PyTk0fqI',\n",
       "       'http://www.trustile.com/sites/trustile.com/files/styles/gallery_large/public/materials/metal/metal-patina-etruscan.jpg?itok=bGJDwB9d',\n",
       "       'http://www.trustile.com/sites/trustile.com/files/styles/gallery_large/public/materials/metal/metal-patina-monet.jpg?itok=clZ6cYPv',\n",
       "       'http://www.trustile.com/sites/trustile.com/files/styles/gallery_large/public/materials/metal/metal-serpentine.jpg?itok=QKICSclF',\n",
       "       'http://www.trustile.com/sites/trustile.com/files/styles/gallery_large/public/materials/metal/metal-stamped-diamondback.jpg?itok=-vvkTbZu',\n",
       "       'http://www.trustile.com/sites/trustile.com/files/styles/gallery_large/public/materials/metal/metal-stamped-extrovert.jpg?itok=Rfg24V4A'], dtype=object)"
      ]
     },
     "execution_count": 10,
     "metadata": {},
     "output_type": "execute_result"
    }
   ],
   "source": [
    "metal"
   ]
  },
  {
   "cell_type": "code",
   "execution_count": 30,
   "metadata": {
    "collapsed": true
   },
   "outputs": [],
   "source": [
    "pathDirectory = \"C:\\Users\\jason\\Documents\\GitHub\\Scraping\\Images\\Metal\"\n",
    "for url in metal:\n",
    "    imageName =  re.search('(?<=metal/).*(?=\\?)',url).group()\n",
    "#     print imageName\n",
    "    path = pathDirectory + \"\\%s\" % imageName\n",
    "    urlretrieve(url,path)"
   ]
  },
  {
   "cell_type": "markdown",
   "metadata": {},
   "source": [
    "##Panel, sticking, and other profiles"
   ]
  },
  {
   "cell_type": "code",
   "execution_count": 31,
   "metadata": {
    "collapsed": true
   },
   "outputs": [],
   "source": [
    "panels = [\"http://www.trustile.com/sites/trustile.com/files/profiles/panel-a-raised.png\",\n",
    "\"http://www.trustile.com/sites/trustile.com/files/profiles/panel-b-scoop.png\",\n",
    "\"http://www.trustile.com/sites/trustile.com/files/profiles/panel-c-flat.png\",\n",
    "\"http://www.trustile.com/sites/trustile.com/files/profiles/panel-d-double-hip.png\",\n",
    "\"http://www.trustile.com/sites/trustile.com/files/profiles/panel-e-senior-raised.png\",\n",
    "\"http://www.trustile.com/sites/trustile.com/files/profiles/panel-f-senior-bevel.png\"]\n",
    "\n",
    "pathDirectory = \"C:\\Users\\jason\\Documents\\GitHub\\Scraping\\Images\\Panel\"\n",
    "for url in panels:\n",
    "    imageName =  re.search('(?<=profiles/).*',url).group()\n",
    "#     print imageName\n",
    "    path = pathDirectory + \"\\%s\" % imageName\n",
    "    urlretrieve(url,path)\n"
   ]
  },
  {
   "cell_type": "code",
   "execution_count": 32,
   "metadata": {
    "collapsed": true
   },
   "outputs": [],
   "source": [
    "sticking = [\"http://www.trustile.com/sites/trustile.com/files/profiles/sticking-reverse-roman-ogee.png\",\n",
    "\"http://www.trustile.com/sites/trustile.com/files/profiles/sticking-square-stick.png\",\n",
    "\"http://www.trustile.com/sites/trustile.com/files/profiles/sticking-one-step.png\",\n",
    "\"http://www.trustile.com/sites/trustile.com/files/profiles/sticking-bevel.png\",\n",
    "\"http://www.trustile.com/sites/trustile.com/files/profiles/sticking-quarter-bead.png\",\n",
    "\"http://www.trustile.com/sites/trustile.com/files/profiles/sticking-quarter-round_0.png\",\n",
    "\"http://www.trustile.com/sites/trustile.com/files/profiles/sticking-cove-bead.png\",\n",
    "\"http://www.trustile.com/sites/trustile.com/files/profiles/sticking-low-profile-bolection-moulding.png\",\n",
    "\"http://www.trustile.com/sites/trustile.com/files/profiles/sticking-bolection-moulding.png\",\n",
    "\"http://www.trustile.com/sites/trustile.com/files/profiles/sticking-big-bolection-moulding.png\",\n",
    "\"http://www.trustile.com/sites/trustile.com/files/profiles/sticking-quirk-moulding.png\"]\n",
    "\n",
    "pathDirectory = \"C:\\Users\\jason\\Documents\\GitHub\\Scraping\\Images\\Sticking\"\n",
    "for url in sticking:\n",
    "    imageName =  re.search('(?<=profiles/).*',url).group()\n",
    "#     print imageName\n",
    "    path = pathDirectory + \"\\%s\" % imageName\n",
    "    urlretrieve(url,path)\n"
   ]
  },
  {
   "cell_type": "code",
   "execution_count": 33,
   "metadata": {
    "collapsed": true
   },
   "outputs": [],
   "source": [
    "tm = [\"http://www.trustile.com/sites/trustile.com/files/styles/large/public/profiles/reveal-radius.png?itok=rRUvutpO\",\n",
    "\"http://www.trustile.com/sites/trustile.com/files/styles/large/public/profiles/reveal-kerf.png?itok=ksDn2H-G\",\n",
    "\"http://www.trustile.com/sites/trustile.com/files/styles/large/public/profiles/modern-square-stick-profile_0.png?itok=Mh9ty-OW\",\n",
    "\"http://www.trustile.com/sites/trustile.com/files/styles/large/public/profiles/modern-one-step-profile_0.png?itok=5gohGYuE\",\n",
    "\"http://www.trustile.com/sites/trustile.com/files/styles/large/public/profiles/modern-square-stick-sash.png?itok=KTzXRhI4\",\n",
    "\"http://www.trustile.com/sites/trustile.com/files/styles/large/public/profiles/modern-one-step-sash.png?itok=jQ4-7vHp\",\n",
    "\"http://www.trustile.com/sites/trustile.com/files/styles/large/public/profiles/modern-square-stick-compression-sash.png?itok=Ihd70Bd4\"]\n",
    "\n",
    "pathDirectory = \"C:\\Users\\jason\\Documents\\GitHub\\Scraping\\Images\\TM Profiles\"\n",
    "for url in tm:\n",
    "    imageName =  re.search('(?<=profiles/).*(?=\\?)',url).group()\n",
    "#     print imageName\n",
    "    path = pathDirectory + \"\\%s\" % imageName\n",
    "    urlretrieve(url,path)\n"
   ]
  },
  {
   "cell_type": "code",
   "execution_count": 34,
   "metadata": {
    "collapsed": true
   },
   "outputs": [],
   "source": [
    "glasses = [\"http://www.trustile.com/sites/trustile.com/files/profiles/sash-reverse-roman-ogee_0.png\",\n",
    "\"http://www.trustile.com/sites/trustile.com/files/profiles/sash-narrow-reverse-roman-ogee.png\",\n",
    "\"http://www.trustile.com/sites/trustile.com/files/profiles/sash-cove-bead.png\",\n",
    "\"http://www.trustile.com/sites/trustile.com/files/profiles/sash-quarter-bead.png\",\n",
    "\"http://www.trustile.com/sites/trustile.com/files/profiles/sash-quarter-round.png\",\n",
    "\"http://www.trustile.com/sites/trustile.com/files/profiles/sash-bevel.png\",\n",
    "\"http://www.trustile.com/sites/trustile.com/files/profiles/sash-one-step.png\",\n",
    "\"http://www.trustile.com/sites/trustile.com/files/profiles/sash-square-stick_0.png\",\n",
    "\"http://www.trustile.com/sites/trustile.com/files/profiles/sash-square-stick-compression-fit.png\",\n",
    "\"http://www.trustile.com/sites/trustile.com/files/profiles/sash-quirk-moulding-compression-fit.png\",\n",
    "\"http://www.trustile.com/sites/trustile.com/files/profiles/sash-applied-raised-moulding_0.png\",\n",
    "\"http://www.trustile.com/sites/trustile.com/files/profiles/modern-square-stick-sash.png\",\n",
    "\"http://www.trustile.com/sites/trustile.com/files/profiles/modern-one-step-sash.png\",\n",
    "\"http://www.trustile.com/sites/trustile.com/files/profiles/modern-square-stick-compression-sash.png\"]\n",
    "\n",
    "pathDirectory = \"C:\\Users\\jason\\Documents\\GitHub\\Scraping\\Images\\Glass Profiles\"\n",
    "for url in glasses:\n",
    "    imageName =  re.search('(?<=profiles/).*',url).group()\n",
    "    path = pathDirectory + \"\\%s\" % imageName\n",
    "    urlretrieve(url,path)\n",
    "\n"
   ]
  },
  {
   "cell_type": "code",
   "execution_count": null,
   "metadata": {
    "collapsed": true
   },
   "outputs": [],
   "source": [
    "pathDirectory = \"C:\\Users\\jason\\Documents\\GitHub\\Scraping\\Images\\Glass Profiles\"\n",
    "for url in glasses:\n",
    "    imageName =  re.search('(?<=profiles/).*',url).group()\n",
    "    path = pathDirectory + \"\\%s\" % imageName\n",
    "    urlretrieve(url,path)"
   ]
  }
 ],
 "metadata": {
  "kernelspec": {
   "display_name": "Python 2",
   "language": "python",
   "name": "python2"
  },
  "language_info": {
   "codemirror_mode": {
    "name": "ipython",
    "version": 2
   },
   "file_extension": ".py",
   "mimetype": "text/x-python",
   "name": "python",
   "nbconvert_exporter": "python",
   "pygments_lexer": "ipython2",
   "version": "2.7.9"
  }
 },
 "nbformat": 4,
 "nbformat_minor": 0
}
