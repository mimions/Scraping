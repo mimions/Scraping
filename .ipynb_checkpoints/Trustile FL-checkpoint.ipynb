{
 "cells": [
  {
   "cell_type": "code",
   "execution_count": 2,
   "metadata": {
    "collapsed": true
   },
   "outputs": [],
   "source": [
    "from urllib2 import urlopen\n",
    "from bs4 import BeautifulSoup\n",
    "import csv\n",
    "import re"
   ]
  },
  {
   "cell_type": "code",
   "execution_count": 3,
   "metadata": {
    "collapsed": true
   },
   "outputs": [],
   "source": [
    "base_url = \"http://www.trustile.com/\"\n",
    "def make_url(str):\n",
    "    return base_url + str"
   ]
  },
  {
   "cell_type": "code",
   "execution_count": 4,
   "metadata": {
    "collapsed": true
   },
   "outputs": [],
   "source": [
    "def make_soup(url):\n",
    "    html = urlopen(url).read()\n",
    "    return BeautifulSoup(html)"
   ]
  },
  {
   "cell_type": "code",
   "execution_count": 7,
   "metadata": {
    "collapsed": true
   },
   "outputs": [
    {
     "data": {
      "text/plain": [
       "['/products/glass-doors/fl-series/fl100',\n",
       " '/products/glass-doors/fl-series/fl101',\n",
       " '/products/glass-doors/fl-series/fl102',\n",
       " '/products/glass-doors/fl-series/fl103',\n",
       " '/products/glass-doors/fl-series/fl110',\n",
       " '/products/glass-doors/fl-series/fl111',\n",
       " '/products/glass-doors/fl-series/fl112',\n",
       " '/products/glass-doors/fl-series/fl113',\n",
       " '/products/glass-doors/fl-series/fl200',\n",
       " '/products/glass-doors/fl-series/fl210',\n",
       " '/products/glass-doors/fl-series/fl300',\n",
       " '/products/glass-doors/fl-series/fl301',\n",
       " '/products/glass-doors/fl-series/fl302',\n",
       " '/products/glass-doors/fl-series/fl304',\n",
       " '/products/glass-doors/fl-series/fl305',\n",
       " '/products/glass-doors/fl-series/fl306',\n",
       " '/products/glass-doors/fl-series/fl310',\n",
       " '/products/glass-doors/fl-series/fl314',\n",
       " '/products/glass-doors/fl-series/fl315',\n",
       " '/products/glass-doors/fl-series/fl316',\n",
       " '/products/glass-doors/fl-series/fl400',\n",
       " '/products/glass-doors/fl-series/fl401',\n",
       " '/products/glass-doors/fl-series/fl410',\n",
       " '/products/glass-doors/fl-series/fl411',\n",
       " '/products/glass-doors/fl-series/fl420',\n",
       " '/products/glass-doors/fl-series/fl421',\n",
       " '/products/glass-doors/fl-series/fl430',\n",
       " '/products/glass-doors/fl-series/fl431',\n",
       " '/products/glass-doors/fl-series/fl440',\n",
       " '/products/glass-doors/fl-series/fl450',\n",
       " '/products/glass-doors/fl-series/fl500',\n",
       " '/products/glass-doors/fl-series/fl501',\n",
       " '/products/glass-doors/fl-series/fl510',\n",
       " '/products/glass-doors/fl-series/fl511',\n",
       " '/products/glass-doors/fl-series/fl520',\n",
       " '/products/glass-doors/fl-series/fl521',\n",
       " '/products/glass-doors/fl-series/fl530',\n",
       " '/products/glass-doors/fl-series/fl531',\n",
       " '/products/glass-doors/fl-series/fl600',\n",
       " '/products/glass-doors/fl-series/fl601',\n",
       " '/products/glass-doors/fl-series/fl602',\n",
       " '/products/glass-doors/fl-series/fl603',\n",
       " '/products/glass-doors/fl-series/fl606',\n",
       " '/products/glass-doors/fl-series/fl607',\n",
       " '/products/glass-doors/fl-series/fl608',\n",
       " '/products/glass-doors/fl-series/fl609',\n",
       " '/products/glass-doors/fl-series/fl616',\n",
       " '/products/glass-doors/fl-series/fl617',\n",
       " '/products/glass-doors/fl-series/fl618',\n",
       " '/products/glass-doors/fl-series/fl619',\n",
       " '/products/glass-doors/fl-series/fl800',\n",
       " '/products/glass-doors/fl-series/fl810',\n",
       " '/products/glass-doors/fl-series/fl820',\n",
       " '/products/glass-doors/fl-series/fl821',\n",
       " '/products/glass-doors/fl-series/fl830',\n",
       " '/products/glass-doors/fl-series/fl831',\n",
       " '/products/glass-doors/fl-series/fl840',\n",
       " '/products/glass-doors/fl-series/fl841',\n",
       " '/products/glass-doors/fl-series/fl850',\n",
       " '/products/glass-doors/fl-series/fl900',\n",
       " '/products/glass-doors/fl-series/fl901',\n",
       " '/products/glass-doors/fl-series/fl1000',\n",
       " '/products/glass-doors/fl-series/fl1001',\n",
       " '/products/glass-doors/fl-series/fl1010',\n",
       " '/products/glass-doors/fl-series/fl1011',\n",
       " '/products/glass-doors/fl-series/fl1020',\n",
       " '/products/glass-doors/fl-series/fl1021',\n",
       " '/products/glass-doors/fl-series/fl1030',\n",
       " '/products/glass-doors/fl-series/fl1040',\n",
       " '/products/glass-doors/fl-series/fl1041',\n",
       " '/products/glass-doors/fl-series/fl1200',\n",
       " '/products/glass-doors/fl-series/fl1210',\n",
       " '/products/glass-doors/fl-series/fl1220',\n",
       " '/products/glass-doors/fl-series/fl1221',\n",
       " '/products/glass-doors/fl-series/fl1230',\n",
       " '/products/glass-doors/fl-series/fl1231',\n",
       " '/products/glass-doors/fl-series/fl1240',\n",
       " '/products/glass-doors/fl-series/fl1241',\n",
       " '/products/glass-doors/fl-series/fl1250',\n",
       " '/products/glass-doors/fl-series/fl1300',\n",
       " '/products/glass-doors/fl-series/fl1310',\n",
       " '/products/glass-doors/fl-series/fl1400',\n",
       " '/products/glass-doors/fl-series/fl1500',\n",
       " '/products/glass-doors/fl-series/fl1501',\n",
       " '/products/glass-doors/fl-series/fl1510',\n",
       " '/products/glass-doors/fl-series/fl1511',\n",
       " '/products/glass-doors/fl-series/fl1520',\n",
       " '/products/glass-doors/fl-series/fl1521',\n",
       " '/products/glass-doors/fl-series/fl1530',\n",
       " '/products/glass-doors/fl-series/fl1531',\n",
       " '/products/glass-doors/fl-series/fl1540',\n",
       " '/products/glass-doors/fl-series/fl1800',\n",
       " '/products/glass-doors/fl-series/fl1801',\n",
       " '/products/glass-doors/fl-series/fl1810',\n",
       " '/products/glass-doors/fl-series/fl1811',\n",
       " '/products/glass-doors/fl-series/fl1820',\n",
       " '/products/glass-doors/fl-series/fl1821',\n",
       " '/products/glass-doors/fl-series/fl1830',\n",
       " '/products/glass-doors/fl-series/fl1831']"
      ]
     },
     "execution_count": 7,
     "metadata": {},
     "output_type": "execute_result"
    }
   ],
   "source": [
    "soup = make_soup(\"http://www.trustile.com/products/glass-doors/fl-series\")\n",
    "flList = []\n",
    "for url in soup.findAll('a'):\n",
    "    try:\n",
    "        urlClass = url.get('class')\n",
    "        if urlClass[0]==\"gridview\":\n",
    "            flList.append(url.get('href'))\n",
    "    except:\n",
    "        pass\n",
    "flList\n"
   ]
  },
  {
   "cell_type": "code",
   "execution_count": 8,
   "metadata": {
    "collapsed": true
   },
   "outputs": [],
   "source": [
    "def get_doorName(soup):\n",
    "    return soup.h1.string"
   ]
  },
  {
   "cell_type": "code",
   "execution_count": 9,
   "metadata": {
    "collapsed": true
   },
   "outputs": [],
   "source": [
    "def get_pageFields(soup):\n",
    "    return soup.findAll('fieldset')"
   ]
  },
  {
   "cell_type": "code",
   "execution_count": 10,
   "metadata": {
    "collapsed": true
   },
   "outputs": [],
   "source": [
    "def get_images(field):\n",
    "    # get all types of images of this door model\n",
    "    div = field.find('div',attrs={\"class\":\"doorthumbs\"})\n",
    "    images = []\n",
    "    for a in div.findAll('a'):\n",
    "        aImage = {}\n",
    "        aImage[\"type\"] = a.get('alt')\n",
    "        aImage[\"url\"] = a.get('href')\n",
    "        images.append(aImage)\n",
    "    return images\n",
    "            "
   ]
  },
  {
   "cell_type": "code",
   "execution_count": 11,
   "metadata": {
    "collapsed": true
   },
   "outputs": [],
   "source": [
    "# detail information on the right of the page\n",
    "def get_details(field):\n",
    "    div = field.find('div',attrs={\"class\":\"doordetails\"})\n",
    "    details = {}\n",
    "    for p in div.findAll('p'):\n",
    "        try:\n",
    "            ifDetail = p.get('class')[2]\n",
    "            if ifDetail == \"product-detail\":           \n",
    "                category = p.span\n",
    "                if category.string == u'Series:\\xa0':\n",
    "                    details['Series'] = p.a.string\n",
    "    \n",
    "                if category.string == u'Application:\\xa0':\n",
    "                    stri = p.get_text()\n",
    "                    app = re.search(u'(?<=\\xa0).*',stri).group()\n",
    "                    details['Application'] = app\n",
    "    \n",
    "                if category.string == u'Thickness:\\xa0':\n",
    "                    details['Thickness'] = p.findAll('span')[1].get_text()\n",
    "    \n",
    "                if category.string == u'Construction:\\xa0':\n",
    "                    try:\n",
    "                        construction = []\n",
    "                        for child in p.findAll('span')[1].children:\n",
    "                            construction.append(child.string)\n",
    "                    except:\n",
    "                        constrction = re.search(u'(?<=\\xa0).*',p.get_text()).group()\n",
    "                    details['Construction'] = construction\n",
    "                if category.string == u'Available Fire Rating:\\xa0':\n",
    "                    fireRating = []\n",
    "                    for img in p.findAll('span')[1].findAll('img'):\n",
    "                        aRating = {}\n",
    "                        aRating[\"type\"] = img.get('alt')\n",
    "                        aRating[\"url\"] = img.get('src')\n",
    "                        fireRating.append(aRating)\n",
    "                    details['Fire'] = fireRating\n",
    "        except:\n",
    "            print p.get_text()\n",
    "    return details"
   ]
  },
  {
   "cell_type": "code",
   "execution_count": 28,
   "metadata": {
    "collapsed": true
   },
   "outputs": [],
   "source": [
    "\n",
    "def get_profiles(field):\n",
    "    profiles = []\n",
    "    for a in field.findAll('a'):\n",
    "        label = a.get('title')\n",
    "        try:\n",
    "            ab = re.search(u'(?<=\\().*(?=\\))',label).group()\n",
    "            profiles.append(ab)\n",
    "        except:\n",
    "            profiles.append(label)\n",
    "\n",
    "    return profiles"
   ]
  },
  {
   "cell_type": "code",
   "execution_count": 30,
   "metadata": {
    "collapsed": false,
    "scrolled": true
   },
   "outputs": [],
   "source": [
    "# FL series\n",
    "# \n",
    "outFile = open(\"TrustileFL_Doors.csv\", \"wb\")\n",
    "writer = csv.writer(outFile)\n",
    "writer.writerow([\"\",\"Name\",\"Images\",\"Series\",\"Application\",\"Construction\",\"Thickness\",\"Fire Rating\",\"Profiles Options\",\"Other Options\"])\n",
    "\n",
    "for i in range(len(flList)):\n",
    "    \n",
    "    soup = make_soup(make_url(flList[i]))\n",
    "    \n",
    "    name = get_doorName(soup)\n",
    "    \n",
    "    options = []\n",
    "    fields = get_pageFields(soup)\n",
    "    for field in fields:\n",
    "        if field.legend.span.string == \"Overview\":\n",
    "            images = get_images(field)\n",
    "            \n",
    "            details = get_details(field)\n",
    "            try:\n",
    "                fireRating = details[\"Fire\"]\n",
    "            except:\n",
    "                fireRating = \"\"\n",
    "        \n",
    "        \n",
    "        if field.legend.span.string == \"Profiles\":\n",
    "#             print field.prettify()\n",
    "            profiles = get_profiles(field)\n",
    "#             print profiles\n",
    "        \n",
    "        # tab3: wood species\n",
    "        if field.legend.span.string == \"Wood Species\":\n",
    "            options.append('Wood')\n",
    "    \n",
    "        # tab4: glass options\n",
    "        if field.legend.span.string == \"Glass\":\n",
    "            options.append('Glass')\n",
    "        \n",
    "        # tab5: leather options\n",
    "        if field.legend.span.string == \"Leather\":\n",
    "            options.append('Leather')\n",
    "    \n",
    "        # tab6: Metal options\n",
    "        if field.legend.span.string == \"Metal\":\n",
    "            options.append('Metal')\n",
    "    \n",
    "#     print ([i+1, name, images, \n",
    "#                      details[\"Series\"], details[\"Application\"], details[\"Construction\"], details[\"Thickness\"], fireRating,\n",
    "#                     options])\n",
    "    writer.writerow([i+1, name, images, \n",
    "                     details[\"Series\"], details[\"Application\"], details[\"Construction\"], details[\"Thickness\"], fireRating,\n",
    "                     profiles,\n",
    "                     options])\n",
    "outFile.close()"
   ]
  },
  {
   "cell_type": "code",
   "execution_count": 31,
   "metadata": {
    "collapsed": false
   },
   "outputs": [
    {
     "name": "stdout",
     "output_type": "stream",
     "text": [
      "Roman Ogee (OG) Sash\n",
      "http://www.trustile.com/sites/trustile.com/files/profiles/sash-reverse-roman-ogee_0.png\n",
      "Narrow Roman Ogee (OG) Sash\n",
      "http://www.trustile.com/sites/trustile.com/files/profiles/sash-narrow-reverse-roman-ogee.png\n",
      "Cove & Bead (CB) Sash\n",
      "http://www.trustile.com/sites/trustile.com/files/profiles/sash-cove-bead.png\n",
      "Quarter Bead (QB) Sash\n",
      "http://www.trustile.com/sites/trustile.com/files/profiles/sash-quarter-bead.png\n",
      "Quarter Round (QR) Sash\n",
      "http://www.trustile.com/sites/trustile.com/files/profiles/sash-quarter-round.png\n",
      "Bevel (BV) Sash\n",
      "http://www.trustile.com/sites/trustile.com/files/profiles/sash-bevel.png\n",
      "One Step (OS) Sash\n",
      "http://www.trustile.com/sites/trustile.com/files/profiles/sash-one-step.png\n",
      "Square Stick (SS) Sash\n",
      "http://www.trustile.com/sites/trustile.com/files/profiles/sash-square-stick_0.png\n",
      "Square Stick (SS) Compression Fit\n",
      "http://www.trustile.com/sites/trustile.com/files/profiles/sash-square-stick-compression-fit.png\n",
      "Quirk Moulding (QM) Compression Fit\n",
      "http://www.trustile.com/sites/trustile.com/files/profiles/sash-quirk-moulding-compression-fit.png\n",
      "Applied Raised Moulding (ARM)\n",
      "http://www.trustile.com/sites/trustile.com/files/profiles/sash-applied-raised-moulding_0.png\n",
      "Square Stick (SS) Sash\n",
      "http://www.trustile.com/sites/trustile.com/files/profiles/modern-square-stick-sash.png\n",
      "One Step (OS) Sash\n",
      "http://www.trustile.com/sites/trustile.com/files/profiles/modern-one-step-sash.png\n",
      "Square Stick (SS) Compression Fit Sash\n",
      "http://www.trustile.com/sites/trustile.com/files/profiles/modern-square-stick-compression-sash.png\n"
     ]
    }
   ],
   "source": [
    "# profiles\n",
    "\n",
    "soup = make_soup(\"http://www.trustile.com/products/profiles/glass-door-profiles\")\n",
    "table = soup.body.table\n",
    "for a in table.findAll('a'):\n",
    "    print a.get(\"title\")\n",
    "    print a.get(\"href\")"
   ]
  },
  {
   "cell_type": "code",
   "execution_count": 32,
   "metadata": {
    "collapsed": true
   },
   "outputs": [],
   "source": [
    "soup = make_soup(\"http://www.trustile.com/products/profiles/glass-door-profiles\")\n",
    "table = soup.body.table\n",
    "\n",
    "profiles = open(\"TrustileFL_profiles.csv\",\"wb\")\n",
    "w = csv.writer(profiles)\n",
    "w.writerow([\"Type\",\"Abbreviation\",\"Name\",\"URL\"])\n",
    "\n",
    "for a in table.findAll('a'):\n",
    "    label = a.get(\"title\")\n",
    "    ab = re.search(u'(?<=\\s\\().*(?=\\))',label).group()\n",
    "    w.writerow([\"\",a.ab,label,a.get('href')])\n",
    "profiles.close()"
   ]
  },
  {
   "cell_type": "code",
   "execution_count": null,
   "metadata": {
    "collapsed": true
   },
   "outputs": [],
   "source": []
  }
 ],
 "metadata": {
  "kernelspec": {
   "display_name": "Python 2",
   "language": "python",
   "name": "python2"
  },
  "language_info": {
   "codemirror_mode": {
    "name": "ipython",
    "version": 2
   },
   "file_extension": ".py",
   "mimetype": "text/x-python",
   "name": "python",
   "nbconvert_exporter": "python",
   "pygments_lexer": "ipython2",
   "version": "2.7.9"
  }
 },
 "nbformat": 4,
 "nbformat_minor": 0
}
