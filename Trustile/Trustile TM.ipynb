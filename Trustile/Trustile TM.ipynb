{
 "cells": [
  {
   "cell_type": "code",
   "execution_count": 1,
   "metadata": {
    "collapsed": true
   },
   "outputs": [],
   "source": [
    "from urllib2 import urlopen\n",
    "from bs4 import BeautifulSoup\n",
    "import csv\n",
    "import re"
   ]
  },
  {
   "cell_type": "code",
   "execution_count": 2,
   "metadata": {
    "collapsed": false
   },
   "outputs": [],
   "source": [
    "tm_links = \"http://www.trustile.com/products/panel-doors/tm-series\"\n",
    "soup = BeautifulSoup(urlopen(tm_links).read())\n",
    "    \n",
    "tmList = []\n",
    "for a in soup.findAll('a'):\n",
    "    try:\n",
    "        urlClass = a.get('class')\n",
    "        if urlClass[0]==\"gridview\":\n",
    "            tmList.append(a.get('href'))\n",
    "            \n",
    "    except:\n",
    "        pass"
   ]
  },
  {
   "cell_type": "code",
   "execution_count": 3,
   "metadata": {
    "collapsed": true
   },
   "outputs": [],
   "source": [
    "base_url = \"http://www.trustile.com/\"\n",
    "def make_url(str):\n",
    "    return base_url + str"
   ]
  },
  {
   "cell_type": "code",
   "execution_count": 4,
   "metadata": {
    "collapsed": true
   },
   "outputs": [],
   "source": [
    "def make_soup(url):\n",
    "    html = urlopen(url).read()\n",
    "    return BeautifulSoup(html)"
   ]
  },
  {
   "cell_type": "code",
   "execution_count": 5,
   "metadata": {
    "collapsed": true
   },
   "outputs": [],
   "source": [
    "def get_doorName(soup):\n",
    "    return soup.h1.string"
   ]
  },
  {
   "cell_type": "code",
   "execution_count": 6,
   "metadata": {
    "collapsed": true
   },
   "outputs": [],
   "source": [
    "def get_pageFields(soup):\n",
    "    return soup.findAll('fieldset')"
   ]
  },
  {
   "cell_type": "code",
   "execution_count": 7,
   "metadata": {
    "collapsed": true
   },
   "outputs": [],
   "source": [
    "def get_images(field):\n",
    "    # get all types of images of this door model\n",
    "    div = field.find('div',attrs={\"class\":\"doorthumbs\"})\n",
    "    images = []\n",
    "    for a in div.findAll('a'):\n",
    "        aImage = {}\n",
    "        aImage[\"type\"] = a.get('alt')\n",
    "        aImage[\"url\"] = a.get('href')\n",
    "        images.append(aImage)\n",
    "    return images\n",
    "            "
   ]
  },
  {
   "cell_type": "code",
   "execution_count": 8,
   "metadata": {
    "collapsed": true
   },
   "outputs": [],
   "source": [
    "# detail information on the right of the page\n",
    "def get_details(field):\n",
    "    div = field.find('div',attrs={\"class\":\"doordetails\"})\n",
    "    details = {}\n",
    "    for p in div.findAll('p'):\n",
    "        try:\n",
    "            ifDetail = p.get('class')[2]\n",
    "            if ifDetail == \"product-detail\":           \n",
    "                category = p.span\n",
    "                if category.string == u'Series:\\xa0':\n",
    "                    details['Series'] = p.a.string\n",
    "    \n",
    "                if category.string == u'Application:\\xa0':\n",
    "                    stri = p.get_text()\n",
    "                    app = re.search(u'(?<=\\xa0).*',stri).group()\n",
    "                    details['Application'] = app\n",
    "    \n",
    "                if category.string == u'Thickness:\\xa0':\n",
    "                    details['Thickness'] = p.findAll('span')[1].get_text()\n",
    "    \n",
    "                if category.string == u'Construction:\\xa0':\n",
    "                    construction = []\n",
    "                    for child in p.findAll('span')[1].children:\n",
    "                        construction.append(child.string)\n",
    "                    details['Construction'] = construction\n",
    "                if category.string == u'Available Fire Rating:\\xa0':\n",
    "                    fireRating = []\n",
    "                    for img in p.findAll('span')[1].findAll('img'):\n",
    "                        aRating = {}\n",
    "                        aRating[\"type\"] = img.get('alt')\n",
    "                        aRating[\"url\"] = img.get('src')\n",
    "                        fireRating.append(aRating)\n",
    "                    details['Fire'] = fireRating\n",
    "        except:\n",
    "            print p.get_text()\n",
    "    return details"
   ]
  },
  {
   "cell_type": "code",
   "execution_count": 9,
   "metadata": {
    "collapsed": true
   },
   "outputs": [],
   "source": [
    "\n",
    "def get_profiles(field):\n",
    "    profiles = []\n",
    "    for a in field.findAll('a'):\n",
    "        profiles.append(a.get('title'))\n",
    "\n",
    "    return profiles"
   ]
  },
  {
   "cell_type": "code",
   "execution_count": 10,
   "metadata": {
    "collapsed": false
   },
   "outputs": [
    {
     "name": "stdout",
     "output_type": "stream",
     "text": [
      "Note: Available only with leather panels.\n",
      "Note: Available only with leather panels.\n"
     ]
    }
   ],
   "source": [
    "# TM series\n",
    "# \n",
    "outFile = open(\"TrustileTM_Doors.csv\", \"wb\")\n",
    "writer = csv.writer(outFile)\n",
    "writer.writerow([\"\",\"Name\",\"Images\",\"Series\",\"Application\",\"Construction\",\"Thickness\",\"Fire Rating\",\"Profiles Options\",\"Other Options\"])\n",
    "\n",
    "for i in range(len(tmList)):\n",
    "    soup = make_soup(make_url(tmList[i]))\n",
    "    \n",
    "    name = get_doorName(soup)\n",
    "    \n",
    "    options = []\n",
    "    fields = get_pageFields(soup)\n",
    "    for field in fields:\n",
    "        if field.legend.span.string == \"Overview\":\n",
    "            images = get_images(field)\n",
    "            \n",
    "            details = get_details(field)\n",
    "            try:\n",
    "                fireRating = details[\"Fire\"]\n",
    "            except:\n",
    "                fireRating = \"\"\n",
    "        \n",
    "        if field.legend.span.string == \"Profiles\":\n",
    "            profiles = get_profiles(field)\n",
    "        \n",
    "        # tab3: wood species\n",
    "        if field.legend.span.string == \"Wood Species\":\n",
    "            options.append('Wood')\n",
    "    \n",
    "        # tab4: glass options\n",
    "        if field.legend.span.string == \"Glass\":\n",
    "            options.append('Glass')\n",
    "        \n",
    "        # tab5: leather options\n",
    "        if field.legend.span.string == \"Leather\":\n",
    "            options.append('Leather')\n",
    "    \n",
    "        # tab6: Metal options\n",
    "        if field.legend.span.string == \"Metal\":\n",
    "            options.append('Metal')\n",
    "    \n",
    "#     print ([i+1, name, images, \n",
    "#                      details[\"Series\"], details[\"Application\"], details[\"Construction\"], details[\"Thickness\"], fireRating,\n",
    "#                     options])\n",
    "    writer.writerow([i+1, name, images, \n",
    "                     details[\"Series\"], details[\"Application\"], details[\"Construction\"], details[\"Thickness\"], fireRating,\n",
    "                     profiles,\n",
    "                     options])\n",
    "outFile.close()"
   ]
  },
  {
   "cell_type": "code",
   "execution_count": 11,
   "metadata": {
    "collapsed": true
   },
   "outputs": [],
   "source": [
    "### store TM series profile options"
   ]
  },
  {
   "cell_type": "code",
   "execution_count": 20,
   "metadata": {
    "collapsed": false
   },
   "outputs": [
    {
     "name": "stdout",
     "output_type": "stream",
     "text": [
      "1/8\" Radius Reveal\n",
      "http://www.trustile.com/sites/trustile.com/files/styles/large/public/profiles/reveal-radius.png?itok=rRUvutpO\n",
      "1/4\" Kerf Cut Reveal\n",
      "http://www.trustile.com/sites/trustile.com/files/styles/large/public/profiles/reveal-kerf.png?itok=ksDn2H-G\n",
      "Square Stick (SS) Profile\n",
      "http://www.trustile.com/sites/trustile.com/files/styles/large/public/profiles/modern-square-stick-profile_0.png?itok=Mh9ty-OW\n",
      "One-Step (OS) Profile\n",
      "http://www.trustile.com/sites/trustile.com/files/styles/large/public/profiles/modern-one-step-profile_0.png?itok=5gohGYuE\n",
      "Square Stick (SS) Sash\n",
      "http://www.trustile.com/sites/trustile.com/files/styles/large/public/profiles/modern-square-stick-sash.png?itok=KTzXRhI4\n",
      "One Step (OS) Sash\n",
      "http://www.trustile.com/sites/trustile.com/files/styles/large/public/profiles/modern-one-step-sash.png?itok=jQ4-7vHp\n",
      "Square Stick (SS) Compression Fit Sash\n",
      "http://www.trustile.com/sites/trustile.com/files/styles/large/public/profiles/modern-square-stick-compression-sash.png?itok=Ihd70Bd4\n"
     ]
    }
   ],
   "source": [
    "soup = make_soup(\"http://www.trustile.com/products/panel-doors/tm-series/tm13270\")\n",
    "fields = get_pageFields(soup)\n",
    "for field in fields:\n",
    "    if field.legend.span.string == \"Profiles\":\n",
    "        for a in field.findAll('a'):\n",
    "            print a.get(\"title\")\n",
    "            print a.get(\"href\")"
   ]
  },
  {
   "cell_type": "code",
   "execution_count": 21,
   "metadata": {
    "collapsed": true
   },
   "outputs": [],
   "source": [
    "soup = make_soup(\"http://www.trustile.com/products/panel-doors/tm-series/tm13270\")\n",
    "fields = get_pageFields(soup)\n",
    "\n",
    "profiles = open(\"TrustileTM_profiles.csv\",\"wb\")\n",
    "w = csv.writer(profiles)\n",
    "w.writerow([\"Type\",\"Name\",\"URL\"])\n",
    "for field in fields:\n",
    "    if field.legend.span.string == \"Profiles\":\n",
    "        for a in field.findAll('a'):\n",
    "            w.writerow([\"\",a.get('title'),a.get('href')])\n",
    "profiles.close()"
   ]
  },
  {
   "cell_type": "code",
   "execution_count": null,
   "metadata": {
    "collapsed": true
   },
   "outputs": [],
   "source": [
    "#### in process codes"
   ]
  },
  {
   "cell_type": "code",
   "execution_count": 17,
   "metadata": {
    "collapsed": false,
    "scrolled": false
   },
   "outputs": [
    {
     "name": "stdout",
     "output_type": "stream",
     "text": [
      "<fieldset class=\"collapsible collapsed group-door-profiles field-group-htab form-wrapper\">\n",
      " <legend>\n",
      "  <span class=\"fieldset-legend\">\n",
      "   Profiles\n",
      "  </span>\n",
      " </legend>\n",
      " <div class=\"fieldset-wrapper\">\n",
      "  <h3>\n",
      "   Reveal Options\n",
      "  </h3>\n",
      "  <table class=\"views-view-grid cols-2\">\n",
      "   <tbody>\n",
      "    <tr>\n",
      "     <td>\n",
      "      <div class=\"field-profile-image\">\n",
      "       <div class=\"field-items\">\n",
      "        <div class=\"field-item odd\">\n",
      "         <a class=\"colorbox\" href=\"http://www.trustile.com/sites/trustile.com/files/styles/large/public/profiles/reveal-radius.png?itok=rRUvutpO\" rel=\"gallery-field_profile_image\" title='1/8\" Radius Reveal'>\n",
      "          <img alt=\"\" src=\"http://www.trustile.com/sites/trustile.com/files/styles/scale_25/public/profiles/reveal-radius.png?itok=Pkb2wdqc\" title=\"\"/>\n",
      "         </a>\n",
      "        </div>\n",
      "       </div>\n",
      "      </div>\n",
      "      <span class=\"caption\">\n",
      "       1/8\" Radius Reveal\n",
      "      </span>\n",
      "      <span class=\"caption note\">\n",
      "      </span>\n",
      "     </td>\n",
      "     <td>\n",
      "      <div class=\"field-profile-image\">\n",
      "       <div class=\"field-items\">\n",
      "        <div class=\"field-item odd\">\n",
      "         <a class=\"colorbox\" href=\"http://www.trustile.com/sites/trustile.com/files/styles/large/public/profiles/reveal-kerf.png?itok=ksDn2H-G\" rel=\"gallery-field_profile_image\" title='1/4\" Kerf Cut Reveal'>\n",
      "          <img alt=\"\" src=\"http://www.trustile.com/sites/trustile.com/files/styles/scale_25/public/profiles/reveal-kerf.png?itok=7EyT0yYR\" title=\"\"/>\n",
      "         </a>\n",
      "        </div>\n",
      "       </div>\n",
      "      </div>\n",
      "      <span class=\"caption\">\n",
      "       1/4\" Kerf Cut Reveal\n",
      "      </span>\n",
      "      <span class=\"caption note\">\n",
      "      </span>\n",
      "     </td>\n",
      "    </tr>\n",
      "   </tbody>\n",
      "  </table>\n",
      "  <h3>\n",
      "   Profile Options\n",
      "  </h3>\n",
      "  <table class=\"views-view-grid cols-2\">\n",
      "   <tbody>\n",
      "    <tr>\n",
      "     <td>\n",
      "      <div class=\"field-profile-image\">\n",
      "       <div class=\"field-items\">\n",
      "        <div class=\"field-item odd\">\n",
      "         <a class=\"colorbox\" href=\"http://www.trustile.com/sites/trustile.com/files/styles/large/public/profiles/modern-square-stick-profile_0.png?itok=Mh9ty-OW\" rel=\"gallery-field_profile_image\" title=\"Square Stick (SS) Profile\">\n",
      "          <img alt=\"\" src=\"http://www.trustile.com/sites/trustile.com/files/styles/scale_25/public/profiles/modern-square-stick-profile_0.png?itok=isIHVYfe\" title=\"\"/>\n",
      "         </a>\n",
      "        </div>\n",
      "       </div>\n",
      "      </div>\n",
      "      <span class=\"caption\">\n",
      "       Square Stick (SS) Profile\n",
      "      </span>\n",
      "      <span class=\"caption note\">\n",
      "       Not available with leather panels. Glass cannot be replaced on compression fit doors.\n",
      "      </span>\n",
      "     </td>\n",
      "     <td>\n",
      "      <div class=\"field-profile-image\">\n",
      "       <div class=\"field-items\">\n",
      "        <div class=\"field-item odd\">\n",
      "         <a class=\"colorbox\" href=\"http://www.trustile.com/sites/trustile.com/files/styles/large/public/profiles/modern-one-step-profile_0.png?itok=5gohGYuE\" rel=\"gallery-field_profile_image\" title=\"One-Step (OS) Profile\">\n",
      "          <img alt=\"\" src=\"http://www.trustile.com/sites/trustile.com/files/styles/scale_25/public/profiles/modern-one-step-profile_0.png?itok=kf3-1zyB\" title=\"\"/>\n",
      "         </a>\n",
      "        </div>\n",
      "       </div>\n",
      "      </div>\n",
      "      <span class=\"caption\">\n",
      "       One-Step (OS) Profile\n",
      "      </span>\n",
      "      <span class=\"caption note\">\n",
      "       Not available with leather or glass panels.\n",
      "      </span>\n",
      "     </td>\n",
      "    </tr>\n",
      "   </tbody>\n",
      "  </table>\n",
      "  <h3>\n",
      "   Sash Options\n",
      "  </h3>\n",
      "  <table class=\"views-view-grid cols-2\">\n",
      "   <tbody>\n",
      "    <tr>\n",
      "     <td>\n",
      "      <div class=\"field-profile-image\">\n",
      "       <div class=\"field-items\">\n",
      "        <div class=\"field-item odd\">\n",
      "         <a class=\"colorbox\" href=\"http://www.trustile.com/sites/trustile.com/files/styles/large/public/profiles/modern-square-stick-sash.png?itok=KTzXRhI4\" rel=\"gallery-field_profile_image\" title=\"Square Stick (SS) Sash\">\n",
      "          <img alt=\"\" src=\"http://www.trustile.com/sites/trustile.com/files/styles/scale_25/public/profiles/modern-square-stick-sash.png?itok=ZfF4gfuJ\" title=\"\"/>\n",
      "         </a>\n",
      "        </div>\n",
      "       </div>\n",
      "      </div>\n",
      "      <span class=\"caption\">\n",
      "       Square Stick (SS) Sash\n",
      "      </span>\n",
      "      <span class=\"caption note\">\n",
      "      </span>\n",
      "     </td>\n",
      "     <td>\n",
      "      <div class=\"field-profile-image\">\n",
      "       <div class=\"field-items\">\n",
      "        <div class=\"field-item odd\">\n",
      "         <a class=\"colorbox\" href=\"http://www.trustile.com/sites/trustile.com/files/styles/large/public/profiles/modern-one-step-sash.png?itok=jQ4-7vHp\" rel=\"gallery-field_profile_image\" title=\"One Step (OS) Sash\">\n",
      "          <img alt=\"\" src=\"http://www.trustile.com/sites/trustile.com/files/styles/scale_25/public/profiles/modern-one-step-sash.png?itok=z_YjWBwk\" title=\"\"/>\n",
      "         </a>\n",
      "        </div>\n",
      "       </div>\n",
      "      </div>\n",
      "      <span class=\"caption\">\n",
      "       One Step (OS) Sash\n",
      "      </span>\n",
      "      <span class=\"caption note\">\n",
      "      </span>\n",
      "     </td>\n",
      "    </tr>\n",
      "    <tr>\n",
      "     <td>\n",
      "      <div class=\"field-profile-image\">\n",
      "       <div class=\"field-items\">\n",
      "        <div class=\"field-item odd\">\n",
      "         <a class=\"colorbox\" href=\"http://www.trustile.com/sites/trustile.com/files/styles/large/public/profiles/modern-square-stick-compression-sash.png?itok=Ihd70Bd4\" rel=\"gallery-field_profile_image\" title=\"Square Stick (SS) Compression Fit Sash\">\n",
      "          <img alt=\"\" src=\"http://www.trustile.com/sites/trustile.com/files/styles/scale_25/public/profiles/modern-square-stick-compression-sash.png?itok=vdLDDRTO\" title=\"\"/>\n",
      "         </a>\n",
      "        </div>\n",
      "       </div>\n",
      "      </div>\n",
      "      <span class=\"caption\">\n",
      "       Square Stick (SS) Compression Fit Sash\n",
      "      </span>\n",
      "      <span class=\"caption note\">\n",
      "       Not available with leather panels. Glass cannot be replaced on compression fit doors.\n",
      "      </span>\n",
      "     </td>\n",
      "     <td>\n",
      "     </td>\n",
      "    </tr>\n",
      "   </tbody>\n",
      "  </table>\n",
      " </div>\n",
      "</fieldset>\n",
      "\n"
     ]
    }
   ],
   "source": [
    "soup = make_soup(\"http://www.trustile.com/products/panel-doors/tm-series/tm13270\")\n",
    "fields = get_pageFields(soup)\n",
    "for field in fields:\n",
    "    if field.legend.span.string == \"Profiles\":\n",
    "        print field.prettify()"
   ]
  }
 ],
 "metadata": {
  "kernelspec": {
   "display_name": "Python 2",
   "language": "python",
   "name": "python2"
  },
  "language_info": {
   "codemirror_mode": {
    "name": "ipython",
    "version": 2
   },
   "file_extension": ".py",
   "mimetype": "text/x-python",
   "name": "python",
   "nbconvert_exporter": "python",
   "pygments_lexer": "ipython2",
   "version": "2.7.9"
  }
 },
 "nbformat": 4,
 "nbformat_minor": 0
}
