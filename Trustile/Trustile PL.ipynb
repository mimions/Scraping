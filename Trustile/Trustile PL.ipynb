{
 "cells": [
  {
   "cell_type": "code",
   "execution_count": 1,
   "metadata": {
    "collapsed": true
   },
   "outputs": [],
   "source": [
    "from urllib2 import urlopen\n",
    "from bs4 import BeautifulSoup\n",
    "import csv\n",
    "import re"
   ]
  },
  {
   "cell_type": "code",
   "execution_count": 2,
   "metadata": {
    "collapsed": true
   },
   "outputs": [],
   "source": [
    "base_url = \"http://www.trustile.com/\"\n",
    "def make_url(str):\n",
    "    return base_url + str"
   ]
  },
  {
   "cell_type": "code",
   "execution_count": 3,
   "metadata": {
    "collapsed": true
   },
   "outputs": [],
   "source": [
    "def make_soup(url):\n",
    "    html = urlopen(url).read()\n",
    "    return BeautifulSoup(html)"
   ]
  },
  {
   "cell_type": "code",
   "execution_count": 4,
   "metadata": {
    "collapsed": true
   },
   "outputs": [
    {
     "data": {
      "text/plain": [
       "['/products/glass-doors/pl-series/pl100',\n",
       " '/products/glass-doors/pl-series/pl104',\n",
       " '/products/glass-doors/pl-series/pl106',\n",
       " '/products/glass-doors/pl-series/pl109',\n",
       " '/products/glass-doors/pl-series/pl119',\n",
       " '/products/glass-doors/pl-series/pl130',\n",
       " '/products/glass-doors/pl-series/pl132',\n",
       " '/products/glass-doors/pl-series/pl134',\n",
       " '/products/glass-doors/pl-series/pl136',\n",
       " '/products/glass-doors/pl-series/pl143',\n",
       " '/products/glass-doors/pl-series/pl144',\n",
       " '/products/glass-doors/pl-series/pl145',\n",
       " '/products/glass-doors/pl-series/pl146',\n",
       " '/products/glass-doors/pl-series/pl200',\n",
       " '/products/glass-doors/pl-series/pl202',\n",
       " '/products/glass-doors/pl-series/pl204',\n",
       " '/products/glass-doors/pl-series/pl206',\n",
       " '/products/glass-doors/pl-series/pl209',\n",
       " '/products/glass-doors/pl-series/pl219',\n",
       " '/products/glass-doors/pl-series/pl220',\n",
       " '/products/glass-doors/pl-series/pl224',\n",
       " '/products/glass-doors/pl-series/pl226',\n",
       " '/products/glass-doors/pl-series/pl229',\n",
       " '/products/glass-doors/pl-series/pl230',\n",
       " '/products/glass-doors/pl-series/pl232',\n",
       " '/products/glass-doors/pl-series/pl233',\n",
       " '/products/glass-doors/pl-series/pl234',\n",
       " '/products/glass-doors/pl-series/pl236',\n",
       " '/products/glass-doors/pl-series/pl243',\n",
       " '/products/glass-doors/pl-series/pl244',\n",
       " '/products/glass-doors/pl-series/pl300',\n",
       " '/products/glass-doors/pl-series/pl304',\n",
       " '/products/glass-doors/pl-series/pl306',\n",
       " '/products/glass-doors/pl-series/pl309',\n",
       " '/products/glass-doors/pl-series/pl319',\n",
       " '/products/glass-doors/pl-series/pl330',\n",
       " '/products/glass-doors/pl-series/pl332',\n",
       " '/products/glass-doors/pl-series/pl333',\n",
       " '/products/glass-doors/pl-series/pl334',\n",
       " '/products/glass-doors/pl-series/pl336',\n",
       " '/products/glass-doors/pl-series/pl343',\n",
       " '/products/glass-doors/pl-series/pl344',\n",
       " '/products/glass-doors/pl-series/pl400',\n",
       " '/products/glass-doors/pl-series/pl404',\n",
       " '/products/glass-doors/pl-series/pl406',\n",
       " '/products/glass-doors/pl-series/pl409',\n",
       " '/products/glass-doors/pl-series/pl410',\n",
       " '/products/glass-doors/pl-series/pl443',\n",
       " '/products/glass-doors/pl-series/pl444']"
      ]
     },
     "execution_count": 4,
     "metadata": {},
     "output_type": "execute_result"
    }
   ],
   "source": [
    "soup = make_soup(\"http://www.trustile.com/products/glass-doors/pl-series\")\n",
    "plList = []\n",
    "for url in soup.findAll('a'):\n",
    "    try:\n",
    "        urlClass = url.get('class')\n",
    "        if urlClass[0]==\"gridview\":\n",
    "            plList.append(url.get('href'))\n",
    "    except:\n",
    "        pass\n",
    "plList\n"
   ]
  },
  {
   "cell_type": "code",
   "execution_count": 5,
   "metadata": {
    "collapsed": true
   },
   "outputs": [],
   "source": [
    "def get_doorName(soup):\n",
    "    return soup.h1.string"
   ]
  },
  {
   "cell_type": "code",
   "execution_count": 6,
   "metadata": {
    "collapsed": true
   },
   "outputs": [],
   "source": [
    "def get_pageFields(soup):\n",
    "    return soup.findAll('fieldset')"
   ]
  },
  {
   "cell_type": "code",
   "execution_count": 7,
   "metadata": {
    "collapsed": true
   },
   "outputs": [],
   "source": [
    "def get_images(field):\n",
    "    # get all types of images of this door model\n",
    "    div = field.find('div',attrs={\"class\":\"doorthumbs\"})\n",
    "    images = []\n",
    "    for a in div.findAll('a'):\n",
    "        aImage = {}\n",
    "        aImage[\"type\"] = a.get('alt')\n",
    "        aImage[\"url\"] = a.get('href')\n",
    "        images.append(aImage)\n",
    "    return images\n",
    "            "
   ]
  },
  {
   "cell_type": "code",
   "execution_count": 8,
   "metadata": {
    "collapsed": true
   },
   "outputs": [],
   "source": [
    "# detail information on the right of the page\n",
    "def get_details(field):\n",
    "    div = field.find('div',attrs={\"class\":\"doordetails\"})\n",
    "    details = {}\n",
    "    for p in div.findAll('p'):\n",
    "        try:\n",
    "            ifDetail = p.get('class')[2]\n",
    "            if ifDetail == \"product-detail\":           \n",
    "                category = p.span\n",
    "                if category.string == u'Series:\\xa0':\n",
    "                    details['Series'] = p.a.string\n",
    "    \n",
    "                if category.string == u'Application:\\xa0':\n",
    "                    stri = p.get_text()\n",
    "                    app = re.search(u'(?<=\\xa0).*',stri).group()\n",
    "                    details['Application'] = app\n",
    "    \n",
    "                if category.string == u'Thickness:\\xa0':\n",
    "                    details['Thickness'] = p.findAll('span')[1].get_text()\n",
    "    \n",
    "                if category.string == u'Construction:\\xa0':\n",
    "                    try:\n",
    "                        construction = []\n",
    "                        for child in p.findAll('span')[1].children:\n",
    "                            construction.append(child.string)\n",
    "                    except:\n",
    "                        constrction = re.search(u'(?<=\\xa0).*',p.get_text()).group()\n",
    "                    details['Construction'] = construction\n",
    "                if category.string == u'Available Fire Rating:\\xa0':\n",
    "                    fireRating = []\n",
    "                    for img in p.findAll('span')[1].findAll('img'):\n",
    "                        aRating = {}\n",
    "                        aRating[\"type\"] = img.get('alt')\n",
    "                        aRating[\"url\"] = img.get('src')\n",
    "                        fireRating.append(aRating)\n",
    "                    details['Fire'] = fireRating\n",
    "        except:\n",
    "            print p.get_text()\n",
    "    return details"
   ]
  },
  {
   "cell_type": "code",
   "execution_count": 25,
   "metadata": {
    "collapsed": true
   },
   "outputs": [],
   "source": [
    "\n",
    "def get_profiles(field):\n",
    "    \n",
    "    headers = field.findAll('h3')\n",
    "    tables = field.findAll('table')\n",
    "    \n",
    "    profiles = []\n",
    "    \n",
    "    for i in range(len(headers)):\n",
    "#         print headers[i].string\n",
    "#         print \"==========\"\n",
    "        aProfileType = {}\n",
    "        aProfileType[\"type\"] = headers[i].string\n",
    "        options = []\n",
    "        for td in tables[i].findAll('td'):\n",
    "            try:\n",
    "                a = td.a\n",
    "                label = a.get('title')\n",
    "            \n",
    "                if headers[i].string == \"Sash Options\":\n",
    "                    options.append(label)\n",
    "                elif headers[i].string == \"Panel Options\":\n",
    "                    ab = re.search(u'(?<=\\u201c).(?=\\u201d)',label).group()\n",
    "                    options.append(ab)\n",
    "                else:\n",
    "                    ab = re.search(u'(?<=\\().*(?=\\))',label).group()\n",
    "                    options.append(ab)\n",
    "            except:\n",
    "                pass\n",
    "            aProfileType[\"options\"] = options\n",
    "        profiles.append(aProfileType)\n",
    "    return profiles"
   ]
  },
  {
   "cell_type": "code",
   "execution_count": 28,
   "metadata": {
    "collapsed": false,
    "scrolled": true
   },
   "outputs": [],
   "source": [
    "# PL series\n",
    "# \n",
    "outFile = open(\"TrustilePL_Doors.csv\", \"wb\")\n",
    "writer = csv.writer(outFile)\n",
    "writer.writerow([\"\",\"Name\",\"Images\",\"Series\",\"Application\",\"Construction\",\"Thickness\",\"Fire Rating\",\"Profiles Options\",\"Other Options\"])\n",
    "\n",
    "for i in range(len(plList)):\n",
    "    \n",
    "    soup = make_soup(make_url(plList[i]))\n",
    "    \n",
    "    name = get_doorName(soup)\n",
    "    \n",
    "    options = []\n",
    "    fields = get_pageFields(soup)\n",
    "    for field in fields:\n",
    "        if field.legend.span.string == \"Overview\":\n",
    "            images = get_images(field)\n",
    "            \n",
    "            details = get_details(field)\n",
    "            try:\n",
    "                fireRating = details[\"Fire\"]\n",
    "            except:\n",
    "                fireRating = \"\"\n",
    "        \n",
    "        \n",
    "        if field.legend.span.string == \"Profiles\":\n",
    "            profiles = get_profiles(field)\n",
    "#             print profiles\n",
    "        \n",
    "        # tab3: wood species\n",
    "        if field.legend.span.string == \"Wood Species\":\n",
    "            options.append('Wood')\n",
    "    \n",
    "        # tab4: glass options\n",
    "        if field.legend.span.string == \"Glass\":\n",
    "            options.append('Glass')\n",
    "        \n",
    "        # tab5: leather options\n",
    "        if field.legend.span.string == \"Leather\":\n",
    "            options.append('Leather')\n",
    "    \n",
    "        # tab6: Metal options\n",
    "        if field.legend.span.string == \"Metal\":\n",
    "            options.append('Metal')\n",
    "    \n",
    "    writer.writerow([i+1, name, images, \n",
    "                     details[\"Series\"], details[\"Application\"], details[\"Construction\"], details[\"Thickness\"], fireRating,\n",
    "                     profiles,\n",
    "                     options])\n",
    "outFile.close()"
   ]
  },
  {
   "cell_type": "code",
   "execution_count": null,
   "metadata": {
    "collapsed": true
   },
   "outputs": [],
   "source": []
  }
 ],
 "metadata": {
  "kernelspec": {
   "display_name": "Python 2",
   "language": "python",
   "name": "python2"
  },
  "language_info": {
   "codemirror_mode": {
    "name": "ipython",
    "version": 2
   },
   "file_extension": ".py",
   "mimetype": "text/x-python",
   "name": "python",
   "nbconvert_exporter": "python",
   "pygments_lexer": "ipython2",
   "version": "2.7.9"
  }
 },
 "nbformat": 4,
 "nbformat_minor": 0
}
