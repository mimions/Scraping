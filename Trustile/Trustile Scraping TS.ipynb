{
 "cells": [
  {
   "cell_type": "code",
   "execution_count": 3,
   "metadata": {
    "collapsed": true
   },
   "outputs": [],
   "source": [
    "from urllib2 import urlopen\n",
    "from bs4 import BeautifulSoup\n",
    "import csv\n",
    "import re"
   ]
  },
  {
   "cell_type": "code",
   "execution_count": 4,
   "metadata": {
    "collapsed": true
   },
   "outputs": [],
   "source": [
    "# URL that contains partial view of and link to each door\n",
    "# obtained manually\n",
    "panelDoors_links = [\"http://www.trustile.com/products/panel-doors/ts-series\",\n",
    "                  \"http://www.trustile.com/products/panel-doors/tm-series\",\n",
    "                  \"http://www.trustile.com/products/panel-doors/vg-series\",\n",
    "                  \"http://www.trustile.com/products/panel-doors/tmb-series\",\n",
    "                  \"http://www.trustile.com/products/panel-doors/cd-series\"]\n",
    "glassDoors_links = [\"http://www.trustile.com/products/glass-doors/fl-series\",\n",
    "                  \"http://www.trustile.com/products/glass-doors/pl-series\"]\n",
    "otherDoors_links = [\"http://www.trustile.com/products/lvr-series\",\n",
    "                  \"http://www.trustile.com/products/exterior-doors\",\n",
    "                  \"http://www.trustile.com/products/fire-rated-doors\",\n",
    "                  \"http://www.trustile.com/products/custom-doors\"]"
   ]
  },
  {
   "cell_type": "code",
   "execution_count": 5,
   "metadata": {
    "collapsed": false
   },
   "outputs": [],
   "source": [
    "panelDoors = []\n",
    "for p in range(len(panelDoors_links)):\n",
    "    # get webpage of each door series\n",
    "    # and make structured data using BeautifulSoup\n",
    "    link = panelDoors_links[p]\n",
    "    soup = BeautifulSoup(urlopen(link).read())\n",
    "    \n",
    "    aList = []\n",
    "    for url in soup.findAll('a'):\n",
    "        try:\n",
    "            urlClass = url.get('class')\n",
    "            if urlClass[0]==\"gridview\":\n",
    "                aList.append(url.get('href'))\n",
    "#             print url.get('href')\n",
    "            \n",
    "        except:\n",
    "            pass\n",
    "    panelDoors.append(aList)"
   ]
  },
  {
   "cell_type": "code",
   "execution_count": 6,
   "metadata": {
    "collapsed": false
   },
   "outputs": [
    {
     "name": "stdout",
     "output_type": "stream",
     "text": [
      "99 49\n"
     ]
    }
   ],
   "source": [
    "glassDoors = []\n",
    "for g in range(len(glassDoors_links)):\n",
    "    # get webpage of each door series\n",
    "    # and make structured data using BeautifulSoup\n",
    "    link = glassDoors_links[g]\n",
    "    soup = BeautifulSoup(urlopen(link).read())\n",
    "    \n",
    "    aList = []\n",
    "    for url in soup.findAll('a'):\n",
    "        try:\n",
    "            urlClass = url.get('class')\n",
    "            if urlClass[0]==\"gridview\":\n",
    "                aList.append(url.get('href'))\n",
    "            \n",
    "        except:\n",
    "            pass\n",
    "    glassDoors.append(aList)\n",
    "print len(glassDoors[0]), len(glassDoors[1])"
   ]
  },
  {
   "cell_type": "code",
   "execution_count": 7,
   "metadata": {
    "collapsed": false
   },
   "outputs": [
    {
     "name": "stdout",
     "output_type": "stream",
     "text": [
      "40\n",
      "0\n",
      "0\n",
      "0\n"
     ]
    }
   ],
   "source": [
    "otherDoors = []\n",
    "for o in range(len(otherDoors_links)):\n",
    "    # get webpage of each door series\n",
    "    # and make structured data using BeautifulSoup\n",
    "    link = otherDoors_links[o]\n",
    "    soup = BeautifulSoup(urlopen(link).read())\n",
    "    \n",
    "    aList = []\n",
    "    for url in soup.findAll('a'):\n",
    "        try:\n",
    "            urlClass = url.get('class')\n",
    "            if urlClass[0]==\"gridview\":\n",
    "                aList.append(url.get('href'))\n",
    "            \n",
    "        except:\n",
    "            pass\n",
    "    otherDoors.append(aList)\n",
    "\n",
    "for o in range(len(otherDoors_links)):\n",
    "    print len(otherDoors[o])"
   ]
  },
  {
   "cell_type": "code",
   "execution_count": 8,
   "metadata": {
    "collapsed": true
   },
   "outputs": [],
   "source": [
    "base_url = \"http://www.trustile.com/\""
   ]
  },
  {
   "cell_type": "code",
   "execution_count": 10,
   "metadata": {
    "collapsed": true
   },
   "outputs": [],
   "source": [
    "def make_url(str):\n",
    "    return base_url + str"
   ]
  },
  {
   "cell_type": "code",
   "execution_count": 11,
   "metadata": {
    "collapsed": true
   },
   "outputs": [],
   "source": [
    "def make_soup(url):\n",
    "    html = urlopen(url).read()\n",
    "    return BeautifulSoup(html)"
   ]
  },
  {
   "cell_type": "code",
   "execution_count": 12,
   "metadata": {
    "collapsed": true
   },
   "outputs": [],
   "source": [
    "def get_doorName(soup):\n",
    "    return soup.h1.string"
   ]
  },
  {
   "cell_type": "code",
   "execution_count": 13,
   "metadata": {
    "collapsed": true
   },
   "outputs": [],
   "source": [
    "def get_pageFields(soup):\n",
    "    return soup.findAll('fieldset')"
   ]
  },
  {
   "cell_type": "code",
   "execution_count": 16,
   "metadata": {
    "collapsed": false
   },
   "outputs": [],
   "source": [
    "def get_images(field):\n",
    "    # get all types of images of this door model\n",
    "    div = field.find('div',attrs={\"class\":\"doorthumbs\"})\n",
    "    images = []\n",
    "    for a in div.findAll('a'):\n",
    "        aImage = {}\n",
    "        aImage[\"type\"] = a.get('alt')\n",
    "        aImage[\"url\"] = a.get('href')\n",
    "        images.append(aImage)\n",
    "    return images\n",
    "            "
   ]
  },
  {
   "cell_type": "code",
   "execution_count": 59,
   "metadata": {
    "collapsed": true
   },
   "outputs": [],
   "source": [
    "# detail information on the right of the page\n",
    "def get_details(field):\n",
    "    div = field.find('div',attrs={\"class\":\"doordetails\"})\n",
    "    details = {}\n",
    "    for p in div.findAll('p'):\n",
    "        try:\n",
    "            ifDetail = p.get('class')[2]\n",
    "            if ifDetail == \"product-detail\":           \n",
    "                category = p.span\n",
    "                if category.string == u'Series:\\xa0':\n",
    "                    details['Series'] = p.a.string\n",
    "    \n",
    "                if category.string == u'Application:\\xa0':\n",
    "                    stri = p.get_text()\n",
    "                    app = re.search(u'(?<=\\xa0).*',stri).group()\n",
    "                    details['Application'] = app\n",
    "    \n",
    "                if category.string == u'Thickness:\\xa0':\n",
    "                    details['Thickness'] = p.findAll('span')[1].get_text()\n",
    "    \n",
    "                if category.string == u'Construction:\\xa0':\n",
    "                    construction = []\n",
    "                    for child in p.findAll('span')[1].children:\n",
    "                        construction.append(child.string)\n",
    "                    details['Construction'] = construction\n",
    "                if category.string == u'Available Fire Rating:\\xa0':\n",
    "                    fireRating = []\n",
    "                    for img in p.findAll('span')[1].findAll('img'):\n",
    "                        aRating = {}\n",
    "                        aRating[\"type\"] = img.get('alt')\n",
    "                        aRating[\"url\"] = img.get('src')\n",
    "                        fireRating.append(aRating)\n",
    "                    details['Fire'] = fireRating\n",
    "        except:\n",
    "            print p.get_text()\n",
    "    return details"
   ]
  },
  {
   "cell_type": "code",
   "execution_count": 61,
   "metadata": {
    "collapsed": true
   },
   "outputs": [],
   "source": [
    "\n",
    "def get_profiles(field):\n",
    "    for view in field.findAll('fieldset'):\n",
    "        # get option names\n",
    "        if view.legend.span.string == \"Preview Profiles\":\n",
    "            # sticking options\n",
    "            sticking = view.find(\"div\",attrs={\"id\":\"sticking\"})\n",
    "            stickingOptions = []\n",
    "            for p in sticking.findAll(\"p\"):\n",
    "                ab = re.search(u'.*(?=\\u2009\\u2013)',p.label.string).group()\n",
    "                full = re.search(u'(?<=\\u2013\\u2009).*',p.label.string).group()\n",
    "#                 aOption = {}\n",
    "#                 aOption[\"type\"] = ab\n",
    "#                 aOption[\"name\"] = full\n",
    "#                 stickingOptions.append(aOption)\n",
    "                stickingOptions.append(ab)\n",
    "                \n",
    "            # panel options\n",
    "            panels = view.find(\"div\",attrs={\"id\":\"panels\"})\n",
    "            panelOptions = []\n",
    "            for p in panels.findAll(\"p\"):\n",
    "                ab = re.search(u'.*(?=\\u2009\\u2013)',p.label.string).group()\n",
    "                full = re.search(u'(?<=\\u2013\\u2009).*',p.label.string).group()\n",
    "#                 aOption = {}\n",
    "#                 aOption[\"type\"] = ab\n",
    "#                 aOption[\"name\"] = full\n",
    "#                 panelOptions.append(aOption)\n",
    "                panelOptions.append(ab)\n",
    "            \n",
    "        # add option images\n",
    "#         if view.legend.span.string == \"View Profile Cross-Sections\":\n",
    "#             # panel options\n",
    "#             table1 = view.findAll('table')[0]\n",
    "#             for td in table1.findAll('td'):\n",
    "#                 imageURL =  td.a.get('href')\n",
    "#                 label = td.span.get_text()\n",
    "#                 key = re.search(u'(?<=\\u201c).(?=\\u201d)',label).group()\n",
    "#                 for option in panelOptions:\n",
    "#                     if option[\"type\"] == key:\n",
    "#                         option[\"url\"] = imageURL\n",
    "                \n",
    "#             # sticking options\n",
    "#             table2 = view.findAll('table')[1]\n",
    "#             for td in table2.findAll('td'):\n",
    "#                 try:\n",
    "#                     imageURL = td.a.get('href')\n",
    "#                     label = td.span.get_text()\n",
    "#                     key = re.search(u'(?<=\\().*(?=\\)\\s)',label).group()\n",
    "#                     for option in stickingOptions:\n",
    "#                         if option[\"type\"] == key:\n",
    "#                             option[\"url\"] = imageURL\n",
    "#                 except:\n",
    "#                     pass\n",
    "    return stickingOptions, panelOptions"
   ]
  },
  {
   "cell_type": "code",
   "execution_count": 29,
   "metadata": {
    "collapsed": true
   },
   "outputs": [],
   "source": [
    "# get information for tab Wood, Glass, Leather, Metal\n",
    "def get_fromGridTab(field):\n",
    "    grid = []\n",
    "    for li in field.findAll('li'):\n",
    "        cell = dict([(\"type\",li.span.string),(\"url\",li.a.get('href'))])\n",
    "        grid.append(cell)\n",
    "    return grid"
   ]
  },
  {
   "cell_type": "code",
   "execution_count": null,
   "metadata": {
    "collapsed": true
   },
   "outputs": [],
   "source": []
  },
  {
   "cell_type": "markdown",
   "metadata": {},
   "source": [
    "###Scrape name, images and details on Overview for each door model"
   ]
  },
  {
   "cell_type": "code",
   "execution_count": 62,
   "metadata": {
    "collapsed": false
   },
   "outputs": [],
   "source": [
    "# \n",
    "# TS series\n",
    "aList = panelDoors[0]\n",
    "outFile = open(\"TrustilePanelDoors_TS.csv\", \"wb\")\n",
    "writer = csv.writer(outFile)\n",
    "writer.writerow([\"\",\"Name\",\"Images\",\"Series\",\"Application\",\"Construction\",\"Thickness\",\"Fire Rating\",\"Sticking\",\"Panel\",\"Options\"])\n",
    "\n",
    "for i in range(len(aList)):\n",
    "    soup = make_soup(make_url(aList[i]))\n",
    "    \n",
    "    name = get_doorName(soup)\n",
    "    \n",
    "    options = []\n",
    "    fields = get_pageFields(soup)\n",
    "    for field in fields:\n",
    "        if field.legend.span.string == \"Overview\":\n",
    "            images = get_images(field)\n",
    "            \n",
    "            details = get_details(field)\n",
    "            try:\n",
    "                fireRating = details[\"Fire\"]\n",
    "            except:\n",
    "                fireRating = \"\"\n",
    "        \n",
    "        if field.legend.span.string == \"Profiles\":\n",
    "            sticking, panel = get_profiles(field)\n",
    "        \n",
    "        \n",
    "        # tab3: wood species\n",
    "        if field.legend.span.string == \"Wood Species\":\n",
    "#             woodSpecies = get_fromGridTab(field)\n",
    "            options.append('Wood')\n",
    "    \n",
    "        # tab4: glass options\n",
    "        if field.legend.span.string == \"Glass\":\n",
    "#             glassOptions = get_fromGridTab(field)\n",
    "            options.append('Glass')\n",
    "        \n",
    "        # tab5: leather options\n",
    "        if field.legend.span.string == \"Leather\":\n",
    "#             leatherOptions = get_fromGridTab(field)\n",
    "            options.append('Leather')\n",
    "    \n",
    "        # tab6: Metal options\n",
    "        if field.legend.span.string == \"Metal\":\n",
    "#             metalOpions = get_fromGridTab(field)\n",
    "            options.append('Metal')\n",
    "            \n",
    "    writer.writerow([i, name, images, \n",
    "                     details[\"Series\"], details[\"Application\"], details[\"Construction\"], details[\"Thickness\"], fireRating,\n",
    "                     sticking, panel,\n",
    "                     options])\n",
    "outFile.close()"
   ]
  },
  {
   "cell_type": "code",
   "execution_count": null,
   "metadata": {
    "collapsed": true
   },
   "outputs": [],
   "source": []
  },
  {
   "cell_type": "code",
   "execution_count": null,
   "metadata": {
    "collapsed": true
   },
   "outputs": [],
   "source": []
  },
  {
   "cell_type": "code",
   "execution_count": 41,
   "metadata": {
    "collapsed": true
   },
   "outputs": [],
   "source": [
    "sticking = open(\"TrustileTSsticking.csv\",\"wb\")\n",
    "w = csv.writer(sticking)\n",
    "w.writerow([\"Type\",\"Name\",\"URL\"])\n",
    "for s in S:\n",
    "    w.writerow([s[\"type\"],s[\"name\"],s[\"url\"]])\n",
    "sticking.close()"
   ]
  },
  {
   "cell_type": "code",
   "execution_count": 42,
   "metadata": {
    "collapsed": true
   },
   "outputs": [],
   "source": [
    "panel = open(\"TrustileTSpanel.csv\",\"wb\")\n",
    "w = csv.writer(panel)\n",
    "w.writerow([\"Type\",\"Name\",\"URL\"])\n",
    "for p in P:\n",
    "    w.writerow([p[\"type\"],p[\"name\"],p[\"url\"]])\n",
    "panel.close()"
   ]
  },
  {
   "cell_type": "code",
   "execution_count": null,
   "metadata": {
    "collapsed": true
   },
   "outputs": [],
   "source": []
  }
 ],
 "metadata": {
  "kernelspec": {
   "display_name": "Python 2",
   "language": "python",
   "name": "python2"
  },
  "language_info": {
   "codemirror_mode": {
    "name": "ipython",
    "version": 2
   },
   "file_extension": ".py",
   "mimetype": "text/x-python",
   "name": "python",
   "nbconvert_exporter": "python",
   "pygments_lexer": "ipython2",
   "version": "2.7.9"
  }
 },
 "nbformat": 4,
 "nbformat_minor": 0
}
