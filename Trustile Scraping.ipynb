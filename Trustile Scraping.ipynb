{
 "cells": [
  {
   "cell_type": "code",
   "execution_count": 1,
   "metadata": {
    "collapsed": true
   },
   "outputs": [],
   "source": [
    "from urllib2 import urlopen\n",
    "from bs4 import BeautifulSoup\n",
    "import csv\n",
    "import re"
   ]
  },
  {
   "cell_type": "code",
   "execution_count": 3,
   "metadata": {
    "collapsed": true
   },
   "outputs": [],
   "source": [
    "# URL that contains partial view of and link to each door\n",
    "# obtained manually\n",
    "panelDoors_links = [\"http://www.trustile.com/products/panel-doors/ts-series\",\n",
    "                  \"http://www.trustile.com/products/panel-doors/tm-series\",\n",
    "                  \"http://www.trustile.com/products/panel-doors/vg-series\",\n",
    "                  \"http://www.trustile.com/products/panel-doors/tmb-series\",\n",
    "                  \"http://www.trustile.com/products/panel-doors/cd-series\"]\n",
    "glassDoors_links = [\"http://www.trustile.com/products/glass-doors/fl-series\",\n",
    "                  \"http://www.trustile.com/products/glass-doors/pl-series\"]\n",
    "otherDoors_links = [\"http://www.trustile.com/products/lvr-series\",\n",
    "                  \"http://www.trustile.com/products/exterior-doors\",\n",
    "                  \"http://www.trustile.com/products/fire-rated-doors\",\n",
    "                  \"http://www.trustile.com/products/custom-doors\"]"
   ]
  },
  {
   "cell_type": "code",
   "execution_count": 6,
   "metadata": {
    "collapsed": false
   },
   "outputs": [],
   "source": [
    "panelDoors = []\n",
    "for p in range(len(panelDoors_links)):\n",
    "    # get webpage of each door series\n",
    "    # and make structured data using BeautifulSoup\n",
    "    link = panelDoors_links[p]\n",
    "    soup = BeautifulSoup(urlopen(link).read())\n",
    "    \n",
    "    aList = []\n",
    "    for url in soup.findAll('a'):\n",
    "        try:\n",
    "            urlClass = url.get('class')\n",
    "            if urlClass[0]==\"gridview\":\n",
    "                aList.append(url.get('href'))\n",
    "#             print url.get('href')\n",
    "            \n",
    "        except:\n",
    "            pass\n",
    "    panelDoors.append(aList)"
   ]
  },
  {
   "cell_type": "code",
   "execution_count": 10,
   "metadata": {
    "collapsed": false
   },
   "outputs": [
    {
     "name": "stdout",
     "output_type": "stream",
     "text": [
      "99 49\n"
     ]
    }
   ],
   "source": [
    "glassDoors = []\n",
    "for g in range(len(glassDoors_links)):\n",
    "    # get webpage of each door series\n",
    "    # and make structured data using BeautifulSoup\n",
    "    link = glassDoors_links[g]\n",
    "    soup = BeautifulSoup(urlopen(link).read())\n",
    "    \n",
    "    aList = []\n",
    "    for url in soup.findAll('a'):\n",
    "        try:\n",
    "            urlClass = url.get('class')\n",
    "            if urlClass[0]==\"gridview\":\n",
    "                aList.append(url.get('href'))\n",
    "            \n",
    "        except:\n",
    "            pass\n",
    "    glassDoors.append(aList)\n",
    "print len(glassDoors[0]), len(glassDoors[1])"
   ]
  },
  {
   "cell_type": "code",
   "execution_count": 11,
   "metadata": {
    "collapsed": false
   },
   "outputs": [
    {
     "name": "stdout",
     "output_type": "stream",
     "text": [
      "40\n",
      "0\n",
      "0\n",
      "0\n"
     ]
    }
   ],
   "source": [
    "otherDoors = []\n",
    "for o in range(len(otherDoors_links)):\n",
    "    # get webpage of each door series\n",
    "    # and make structured data using BeautifulSoup\n",
    "    link = otherDoors_links[o]\n",
    "    soup = BeautifulSoup(urlopen(link).read())\n",
    "    \n",
    "    aList = []\n",
    "    for url in soup.findAll('a'):\n",
    "        try:\n",
    "            urlClass = url.get('class')\n",
    "            if urlClass[0]==\"gridview\":\n",
    "                aList.append(url.get('href'))\n",
    "            \n",
    "        except:\n",
    "            pass\n",
    "    otherDoors.append(aList)\n",
    "\n",
    "for o in range(len(otherDoors_links)):\n",
    "    print len(otherDoors[o])"
   ]
  },
  {
   "cell_type": "code",
   "execution_count": 12,
   "metadata": {
    "collapsed": true
   },
   "outputs": [],
   "source": [
    "base_url = \"http://www.trustile.com/\""
   ]
  },
  {
   "cell_type": "code",
   "execution_count": null,
   "metadata": {
    "collapsed": true
   },
   "outputs": [],
   "source": []
  }
 ],
 "metadata": {
  "kernelspec": {
   "display_name": "Python 2",
   "language": "python",
   "name": "python2"
  },
  "language_info": {
   "codemirror_mode": {
    "name": "ipython",
    "version": 2
   },
   "file_extension": ".py",
   "mimetype": "text/x-python",
   "name": "python",
   "nbconvert_exporter": "python",
   "pygments_lexer": "ipython2",
   "version": "2.7.9"
  }
 },
 "nbformat": 4,
 "nbformat_minor": 0
}
