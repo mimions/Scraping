{
 "cells": [
  {
   "cell_type": "code",
   "execution_count": 1,
   "metadata": {
    "collapsed": true
   },
   "outputs": [],
   "source": [
    "from urllib2 import urlopen\n",
    "from bs4 import BeautifulSoup\n",
    "import csv\n",
    "import re"
   ]
  },
  {
   "cell_type": "code",
   "execution_count": 2,
   "metadata": {
    "collapsed": false
   },
   "outputs": [],
   "source": [
    "tmb_links = \"http://www.trustile.com/products/panel-doors/tmb-series\"\n",
    "soup = BeautifulSoup(urlopen(tmb_links).read())\n",
    "    \n",
    "tmbList = []\n",
    "for a in soup.findAll('a'):\n",
    "    try:\n",
    "        urlClass = a.get('class')\n",
    "        if urlClass[0]==\"gridview\":\n",
    "            tmbList.append(a.get('href'))\n",
    "            \n",
    "    except:\n",
    "        pass"
   ]
  },
  {
   "cell_type": "code",
   "execution_count": 3,
   "metadata": {
    "collapsed": true
   },
   "outputs": [],
   "source": [
    "base_url = \"http://www.trustile.com/\"\n",
    "def make_url(str):\n",
    "    return base_url + str"
   ]
  },
  {
   "cell_type": "code",
   "execution_count": 4,
   "metadata": {
    "collapsed": true
   },
   "outputs": [],
   "source": [
    "def make_soup(url):\n",
    "    html = urlopen(url).read()\n",
    "    return BeautifulSoup(html)"
   ]
  },
  {
   "cell_type": "code",
   "execution_count": 5,
   "metadata": {
    "collapsed": true
   },
   "outputs": [],
   "source": [
    "def get_doorName(soup):\n",
    "    return soup.h1.string"
   ]
  },
  {
   "cell_type": "code",
   "execution_count": 6,
   "metadata": {
    "collapsed": true
   },
   "outputs": [],
   "source": [
    "def get_pageFields(soup):\n",
    "    return soup.findAll('fieldset')"
   ]
  },
  {
   "cell_type": "code",
   "execution_count": 7,
   "metadata": {
    "collapsed": true
   },
   "outputs": [],
   "source": [
    "def get_images(field):\n",
    "    # get all types of images of this door model\n",
    "    div = field.find('div',attrs={\"class\":\"doorthumbs\"})\n",
    "    images = []\n",
    "    for a in div.findAll('a'):\n",
    "        aImage = {}\n",
    "        aImage[\"type\"] = a.get('alt')\n",
    "        aImage[\"url\"] = a.get('href')\n",
    "        images.append(aImage)\n",
    "    return images\n",
    "            "
   ]
  },
  {
   "cell_type": "code",
   "execution_count": 50,
   "metadata": {
    "collapsed": true
   },
   "outputs": [],
   "source": [
    "# detail information on the right of the page\n",
    "def get_details(field):\n",
    "    div = field.find('div',attrs={\"class\":\"doordetails\"})\n",
    "    details = {}\n",
    "    for p in div.findAll('p'):\n",
    "        try:\n",
    "            ifDetail = p.get('class')[2]\n",
    "            if ifDetail == \"product-detail\":           \n",
    "                category = p.span\n",
    "                if category.string == u'Series:\\xa0':\n",
    "                    details['Series'] = p.a.string\n",
    "    \n",
    "                if category.string == u'Application:\\xa0':\n",
    "                    stri = p.get_text()\n",
    "                    app = re.search(u'(?<=\\xa0).*',stri).group()\n",
    "                    details['Application'] = app\n",
    "    \n",
    "                if category.string == u'Thickness:\\xa0':\n",
    "                    details['Thickness'] = p.findAll('span')[1].get_text()\n",
    "    \n",
    "                if category.string == u'Construction:\\xa0':\n",
    "                    try:\n",
    "                        construction = []\n",
    "                        for child in p.findAll('span')[1].children:\n",
    "                            construction.append(child.string)\n",
    "                    except:\n",
    "                        construction = re.search(u'(?<=\\xa0).*',p.get_text()).group()\n",
    "                    details['Construction'] = construction\n",
    "                if category.string == u'Available Fire Rating:\\xa0':\n",
    "                    fireRating = []\n",
    "                    for img in p.findAll('span')[1].findAll('img'):\n",
    "                        aRating = {}\n",
    "                        aRating[\"type\"] = img.get('alt')\n",
    "                        aRating[\"url\"] = img.get('src')\n",
    "                        fireRating.append(aRating)\n",
    "                    details['Fire'] = fireRating\n",
    "        except:\n",
    "            print p.get_text()\n",
    "    return details"
   ]
  },
  {
   "cell_type": "code",
   "execution_count": 9,
   "metadata": {
    "collapsed": true
   },
   "outputs": [],
   "source": [
    "\n",
    "def get_profiles(field):\n",
    "    profiles = []\n",
    "    for a in field.findAll('a'):\n",
    "        profiles.append(a.get('title'))\n",
    "\n",
    "    return profiles"
   ]
  },
  {
   "cell_type": "code",
   "execution_count": 51,
   "metadata": {
    "collapsed": false
   },
   "outputs": [],
   "source": [
    "# TMB series\n",
    "# \n",
    "outFile = open(\"TrustileTMB_Doors.csv\", \"wb\")\n",
    "writer = csv.writer(outFile)\n",
    "writer.writerow([\"\",\"Name\",\"Images\",\"Series\",\"Application\",\"Construction\",\"Thickness\",\"Fire Rating\",\"Profiles Options\",\"Other Options\"])\n",
    "\n",
    "for i in range(len(tmbList)):\n",
    "    soup = make_soup(make_url(tmbList[i]))\n",
    "    \n",
    "    name = get_doorName(soup)\n",
    "    \n",
    "    options = []\n",
    "    fields = get_pageFields(soup)\n",
    "    for field in fields:\n",
    "        if field.legend.span.string == \"Overview\":\n",
    "            images = get_images(field)\n",
    "            \n",
    "            details = get_details(field)\n",
    "            try:\n",
    "                fireRating = details[\"Fire\"]\n",
    "            except:\n",
    "                fireRating = \"\"\n",
    "            try:\n",
    "                construction = details[\"Construction\"]\n",
    "            except:\n",
    "                print \"%d no construction\" % i\n",
    "                construction = \"\"\n",
    "                \n",
    "        if field.legend.span.string == \"Profiles\":\n",
    "            profiles = get_profiles(field)\n",
    "        \n",
    "        # tab3: wood species\n",
    "        if field.legend.span.string == \"Wood Species\":\n",
    "            options.append('Wood')\n",
    "    \n",
    "        # tab4: glass options\n",
    "        if field.legend.span.string == \"Glass\":\n",
    "            options.append('Glass')\n",
    "        \n",
    "        # tab5: leather options\n",
    "        if field.legend.span.string == \"Leather\":\n",
    "            options.append('Leather')\n",
    "    \n",
    "        # tab6: Metal options\n",
    "        if field.legend.span.string == \"Metal\":\n",
    "            options.append('Metal')\n",
    "    \n",
    "#     print ([i+1, name, images, \n",
    "#                      details[\"Series\"], details[\"Application\"], details[\"Construction\"], details[\"Thickness\"], fireRating,\n",
    "#                     options])\n",
    "    writer.writerow([i+1, name, images, \n",
    "                     details[\"Series\"], details[\"Application\"], construction, details[\"Thickness\"], fireRating,\n",
    "                     profiles,\n",
    "                     options])\n",
    "outFile.close()"
   ]
  },
  {
   "cell_type": "code",
   "execution_count": null,
   "metadata": {
    "collapsed": true
   },
   "outputs": [],
   "source": [
    "### store TM series profile options"
   ]
  },
  {
   "cell_type": "code",
   "execution_count": 53,
   "metadata": {
    "collapsed": false
   },
   "outputs": [
    {
     "name": "stdout",
     "output_type": "stream",
     "text": [
      "Half-Round Tambour Profile\n",
      "http://www.trustile.com/sites/trustile.com/files/profiles/tmb-half-round-profile.png\n",
      "Bevel Tambour Profile\n",
      "http://www.trustile.com/sites/trustile.com/files/profiles/tmb-bevel-profile.png\n"
     ]
    }
   ],
   "source": [
    "soup = make_soup(\"http://www.trustile.com/products/profiles/tambour-door-profiles\")\n",
    "table = soup.body.table\n",
    "for a in table.findAll('a'):\n",
    "    print a.get(\"title\")\n",
    "    print a.get(\"href\")"
   ]
  },
  {
   "cell_type": "code",
   "execution_count": 55,
   "metadata": {
    "collapsed": true
   },
   "outputs": [],
   "source": [
    "soup = make_soup(\"http://www.trustile.com/products/profiles/tambour-door-profiles\")\n",
    "\n",
    "profiles = open(\"TrustileTMB_profiles.csv\",\"wb\")\n",
    "w = csv.writer(profiles)\n",
    "w.writerow([\"Type\",\"Name\",\"URL\"])\n",
    "\n",
    "table = soup.body.table\n",
    "for a in table.findAll('a'):\n",
    "    w.writerow([\"\",a.get('title'),a.get('href')])\n",
    "profiles.close()"
   ]
  },
  {
   "cell_type": "code",
   "execution_count": null,
   "metadata": {
    "collapsed": true
   },
   "outputs": [],
   "source": []
  },
  {
   "cell_type": "code",
   "execution_count": null,
   "metadata": {
    "collapsed": true
   },
   "outputs": [],
   "source": [
    "#### in process codes"
   ]
  },
  {
   "cell_type": "code",
   "execution_count": 24,
   "metadata": {
    "collapsed": false
   },
   "outputs": [
    {
     "ename": "SyntaxError",
     "evalue": "invalid syntax (<ipython-input-24-c99dd42eaac2>, line 3)",
     "output_type": "error",
     "traceback": [
      "\u001b[1;36m  File \u001b[1;32m\"<ipython-input-24-c99dd42eaac2>\"\u001b[1;36m, line \u001b[1;32m3\u001b[0m\n\u001b[1;33m    if field.legend.span == \"<span class=\"fieldset-legend\">Overview</span>\":\u001b[0m\n\u001b[1;37m                                                 ^\u001b[0m\n\u001b[1;31mSyntaxError\u001b[0m\u001b[1;31m:\u001b[0m invalid syntax\n"
     ]
    }
   ],
   "source": [
    "soup = make_soup(\"http://www.trustile.com/products/panel-doors/tmb-series/tmb1030\")\n",
    "fields = get_pageFields(soup)\n",
    "if field.legend.span == u\"<span class=\"fieldset-legend\">Overview</span>\":\n",
    "    print field.legend.span"
   ]
  },
  {
   "cell_type": "code",
   "execution_count": 49,
   "metadata": {
    "collapsed": false
   },
   "outputs": [
    {
     "name": "stdout",
     "output_type": "stream",
     "text": [
      "<class 'bs4.element.Tag'>\n",
      "Construction: TruStile MDF\n",
      "<p class=\"field-construction inline product-detail\"><span class=\"field-label sku-list-label\">Construction: </span>TruStile MDF</p>\n",
      "TruStile MDF\n"
     ]
    }
   ],
   "source": [
    "soup = make_soup(\"http://www.trustile.com/products/panel-doors/tmb-series/tmb1030\")\n",
    "fields = get_pageFields(soup)\n",
    "\n",
    "for field in fields:\n",
    "    if field.legend.span.string == \"Overview\":\n",
    "        div = field.find('div',attrs={\"class\":\"doordetails\"})\n",
    "        for p in div.findAll('p'):\n",
    "            ifDetail = p.get('class')[2]\n",
    "            if ifDetail == \"product-detail\":           \n",
    "                category = p.span\n",
    "                if category.string == u'Construction:\\xa0':\n",
    "                    construction = []\n",
    "                    try:\n",
    "                        for child in p.findAll('span')[1].children:\n",
    "                            construction.append(child.string)\n",
    "                            print child\n",
    "                    except:\n",
    "#                         pass\n",
    "                        print type(p)\n",
    "                        print p.get_text()\n",
    "                        construction = re.search(u'(?<=\\xa0).*',p.get_text()).group()\n",
    "                        print p\n",
    "                        print construction\n"
   ]
  },
  {
   "cell_type": "code",
   "execution_count": null,
   "metadata": {
    "collapsed": true
   },
   "outputs": [],
   "source": []
  }
 ],
 "metadata": {
  "kernelspec": {
   "display_name": "Python 2",
   "language": "python",
   "name": "python2"
  },
  "language_info": {
   "codemirror_mode": {
    "name": "ipython",
    "version": 2
   },
   "file_extension": ".py",
   "mimetype": "text/x-python",
   "name": "python",
   "nbconvert_exporter": "python",
   "pygments_lexer": "ipython2",
   "version": "2.7.9"
  }
 },
 "nbformat": 4,
 "nbformat_minor": 0
}
