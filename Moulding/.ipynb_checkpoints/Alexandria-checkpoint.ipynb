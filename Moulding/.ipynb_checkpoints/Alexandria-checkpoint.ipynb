{
 "cells": [
  {
   "cell_type": "code",
   "execution_count": 1,
   "metadata": {
    "collapsed": true
   },
   "outputs": [],
   "source": [
    "from bs4 import BeautifulSoup\n",
    "import os\n",
    "import re\n",
    "import csv\n",
    "import json\n",
    "from urllib2 import urlopen\n",
    "from urllib import urlretrieve"
   ]
  },
  {
   "cell_type": "code",
   "execution_count": 2,
   "metadata": {
    "collapsed": true
   },
   "outputs": [],
   "source": [
    "import pandas as pd\n",
    "import numpy as np"
   ]
  },
  {
   "cell_type": "code",
   "execution_count": 3,
   "metadata": {
    "collapsed": true
   },
   "outputs": [],
   "source": [
    "m = \"http://www.alexandriamoulding.com/?page=product_finder#mouldings\""
   ]
  },
  {
   "cell_type": "code",
   "execution_count": 7,
   "metadata": {
    "collapsed": false
   },
   "outputs": [
    {
     "ename": "AttributeError",
     "evalue": "'NoneType' object has no attribute 'prettify'",
     "output_type": "error",
     "traceback": [
      "\u001b[1;31m---------------------------------------------------------------------------\u001b[0m",
      "\u001b[1;31mAttributeError\u001b[0m                            Traceback (most recent call last)",
      "\u001b[1;32m<ipython-input-7-1406dd20017e>\u001b[0m in \u001b[0;36m<module>\u001b[1;34m()\u001b[0m\n\u001b[0;32m      3\u001b[0m \u001b[0mbody\u001b[0m \u001b[1;33m=\u001b[0m \u001b[0msoup\u001b[0m\u001b[1;33m.\u001b[0m\u001b[0mbody\u001b[0m\u001b[1;33m\u001b[0m\u001b[0m\n\u001b[0;32m      4\u001b[0m \u001b[0mdiv\u001b[0m \u001b[1;33m=\u001b[0m \u001b[0mbody\u001b[0m\u001b[1;33m.\u001b[0m\u001b[0mfind\u001b[0m\u001b[1;33m(\u001b[0m\u001b[1;34m'div'\u001b[0m\u001b[1;33m,\u001b[0m \u001b[0mattrs\u001b[0m\u001b[1;33m=\u001b[0m\u001b[1;33m{\u001b[0m\u001b[1;34m'class'\u001b[0m\u001b[1;33m:\u001b[0m\u001b[1;34m'ProductList'\u001b[0m\u001b[1;33m}\u001b[0m\u001b[1;33m)\u001b[0m\u001b[1;33m\u001b[0m\u001b[0m\n\u001b[1;32m----> 5\u001b[1;33m \u001b[1;32mprint\u001b[0m \u001b[0mdiv\u001b[0m\u001b[1;33m.\u001b[0m\u001b[0mprettify\u001b[0m\u001b[1;33m(\u001b[0m\u001b[1;33m)\u001b[0m\u001b[1;33m\u001b[0m\u001b[0m\n\u001b[0m\u001b[0;32m      6\u001b[0m \u001b[1;31m# for a in body.findAll('a'):\u001b[0m\u001b[1;33m\u001b[0m\u001b[1;33m\u001b[0m\u001b[0m\n\u001b[0;32m      7\u001b[0m \u001b[1;31m#     url = a.get('href')\u001b[0m\u001b[1;33m\u001b[0m\u001b[1;33m\u001b[0m\u001b[0m\n",
      "\u001b[1;31mAttributeError\u001b[0m: 'NoneType' object has no attribute 'prettify'"
     ]
    }
   ],
   "source": [
    "soup = BeautifulSoup(urlopen(m).read())\n",
    "\n",
    "body = soup.body\n",
    "div = body.find('div', attrs={'class':'ProductList'})\n",
    "print div.prettify()\n",
    "# for a in body.findAll('a'):\n",
    "#     url = a.get('href')\n",
    "#     print url\n"
   ]
  },
  {
   "cell_type": "code",
   "execution_count": 3,
   "metadata": {
    "collapsed": false
   },
   "outputs": [
    {
     "data": {
      "text/html": [
       "<div style=\"max-height:1000px;max-width:1500px;overflow:auto;\">\n",
       "<table border=\"1\" class=\"dataframe\">\n",
       "  <thead>\n",
       "    <tr style=\"text-align: right;\">\n",
       "      <th></th>\n",
       "      <th>name</th>\n",
       "      <th>model</th>\n",
       "      <th>size</th>\n",
       "      <th>link</th>\n",
       "    </tr>\n",
       "  </thead>\n",
       "  <tbody>\n",
       "    <tr>\n",
       "      <th>0</th>\n",
       "      <td> 404023/8'' x 3-1/4''</td>\n",
       "      <td> 40402</td>\n",
       "      <td> 3/8'' x 3-1/4''</td>\n",
       "      <td> http://www.alexandriamoulding.com/products.php...</td>\n",
       "    </tr>\n",
       "    <tr>\n",
       "      <th>1</th>\n",
       "      <td>     900945/8'' x 4''</td>\n",
       "      <td> 90094</td>\n",
       "      <td>     5/8'' x 4''</td>\n",
       "      <td> http://www.alexandriamoulding.com/products.php...</td>\n",
       "    </tr>\n",
       "    <tr>\n",
       "      <th>2</th>\n",
       "      <td>     900955/8'' x 5''</td>\n",
       "      <td> 90095</td>\n",
       "      <td>     5/8'' x 5''</td>\n",
       "      <td> http://www.alexandriamoulding.com/products.php...</td>\n",
       "    </tr>\n",
       "    <tr>\n",
       "      <th>3</th>\n",
       "      <td> 902051/2'' x 3-7/8''</td>\n",
       "      <td> 90205</td>\n",
       "      <td> 1/2'' x 3-7/8''</td>\n",
       "      <td> http://www.alexandriamoulding.com/products.php...</td>\n",
       "    </tr>\n",
       "    <tr>\n",
       "      <th>4</th>\n",
       "      <td>     903473/4'' x 7''</td>\n",
       "      <td> 90347</td>\n",
       "      <td>     3/4'' x 7''</td>\n",
       "      <td> http://www.alexandriamoulding.com/products.php...</td>\n",
       "    </tr>\n",
       "  </tbody>\n",
       "</table>\n",
       "</div>"
      ],
      "text/plain": [
       "                   name  model             size  \\\n",
       "0  404023/8'' x 3-1/4''  40402  3/8'' x 3-1/4''   \n",
       "1      900945/8'' x 4''  90094      5/8'' x 4''   \n",
       "2      900955/8'' x 5''  90095      5/8'' x 5''   \n",
       "3  902051/2'' x 3-7/8''  90205  1/2'' x 3-7/8''   \n",
       "4      903473/4'' x 7''  90347      3/4'' x 7''   \n",
       "\n",
       "                                                link  \n",
       "0  http://www.alexandriamoulding.com/products.php...  \n",
       "1  http://www.alexandriamoulding.com/products.php...  \n",
       "2  http://www.alexandriamoulding.com/products.php...  \n",
       "3  http://www.alexandriamoulding.com/products.php...  \n",
       "4  http://www.alexandriamoulding.com/products.php...  "
      ]
     },
     "execution_count": 3,
     "metadata": {},
     "output_type": "execute_result"
    }
   ],
   "source": [
    "df = pd.read_csv(\"links_alexandriaWA.csv\")\n",
    "df.head()"
   ]
  },
  {
   "cell_type": "code",
   "execution_count": 4,
   "metadata": {
    "collapsed": false
   },
   "outputs": [
    {
     "data": {
      "text/plain": [
       "'http://www.alexandriamoulding.com/products.php?state=entry&region=Alex%20West%20(USA)&entry=40402'"
      ]
     },
     "execution_count": 4,
     "metadata": {},
     "output_type": "execute_result"
    }
   ],
   "source": [
    "links=df.link.values\n",
    "links[0]"
   ]
  },
  {
   "cell_type": "code",
   "execution_count": 5,
   "metadata": {
    "collapsed": false,
    "scrolled": true
   },
   "outputs": [
    {
     "name": "stdout",
     "output_type": "stream",
     "text": [
      "<body style=\"background: white;\">\n",
      " <div class=\"align_c float_l noborder\" style=\"width: 35%;\">\n",
      "  <div>\n",
      "   <img alt=\"40402\" src=\"products/entries/40402.jpg\" title=\"40402\"/>\n",
      "  </div>\n",
      "  <p class=\"align_c legend\">\n",
      "   Size: 3/8'' x 3-1/4''\n",
      "  </p>\n",
      " </div>\n",
      " <div class=\"float_l\" style=\"width: 65%;\">\n",
      "  <h1>\n",
      "   40402\n",
      "  </h1>\n",
      "  <p>\n",
      "   Baseboard\n",
      "  </p>\n",
      "  <table cellpadding=\"0\" cellspacing=\"0\">\n",
      "   <tbody>\n",
      "    <tr>\n",
      "     <td class=\"title\">\n",
      "      Length\n",
      "     </td>\n",
      "     <td>\n",
      "      RL\n",
      "     </td>\n",
      "    </tr>\n",
      "    <tr>\n",
      "     <td class=\"title\">\n",
      "      Category\n",
      "     </td>\n",
      "     <td>\n",
      "      Mouldings\n",
      "     </td>\n",
      "    </tr>\n",
      "    <tr>\n",
      "     <td class=\"title\">\n",
      "      Style\n",
      "     </td>\n",
      "     <td>\n",
      "      Colonial\n",
      "     </td>\n",
      "    </tr>\n",
      "    <tr>\n",
      "     <td class=\"title\">\n",
      "      Design Collection\n",
      "     </td>\n",
      "     <td>\n",
      "      N/A\n",
      "     </td>\n",
      "    </tr>\n",
      "    <tr>\n",
      "     <td class=\"title\">\n",
      "      Specie\n",
      "     </td>\n",
      "     <td>\n",
      "      Solid Oak\n",
      "     </td>\n",
      "    </tr>\n",
      "    <tr>\n",
      "     <td class=\"title\">\n",
      "      Region\n",
      "     </td>\n",
      "     <td>\n",
      "      Alex West (USA)\n",
      "     </td>\n",
      "    </tr>\n",
      "   </tbody>\n",
      "  </table>\n",
      " </div>\n",
      " <div class=\"clear\">\n",
      " </div>\n",
      " <p class=\"align_c\">\n",
      "  <a href=\"javascript:void(0);\" onclick=\"window.print();\">\n",
      "   Print this page\n",
      "  </a>\n",
      " </p>\n",
      "</body>\n",
      "\n"
     ]
    }
   ],
   "source": [
    "soup = BeautifulSoup(urlopen(links[0]).read())\n",
    "\n",
    "body = soup.body\n",
    "print body.prettify()"
   ]
  },
  {
   "cell_type": "code",
   "execution_count": 18,
   "metadata": {
    "collapsed": false
   },
   "outputs": [
    {
     "name": "stdout",
     "output_type": "stream",
     "text": [
      "products/entries/40402.jpg\n",
      "Size: 3/8'' x 3-1/4''\n",
      "40402\n",
      "Baseboard\n",
      "RL\n",
      "Mouldings\n",
      "Colonial\n",
      "N/A\n",
      "Solid Oak\n",
      "Alex West (USA)\n"
     ]
    }
   ],
   "source": [
    "# image\n",
    "print body.find('img').get('src')\n",
    "\n",
    "# size\n",
    "print body.find('p', attrs={'class':'align_c legend'}).get_text()\n",
    "\n",
    "# name\n",
    "print body.find('h1').get_text()\n",
    "\n",
    "# type\n",
    "div = body.find('div',attrs={'style': 'width: 65%;'})\n",
    "print div.find('p').get_text()\n",
    "\n",
    "table = body.find('table')\n",
    "for td in table.findAll('td'):\n",
    "    if td.has_attr('class'):\n",
    "        pass\n",
    "    else:\n",
    "        print td.get_text()"
   ]
  },
  {
   "cell_type": "code",
   "execution_count": null,
   "metadata": {
    "collapsed": true
   },
   "outputs": [],
   "source": []
  },
  {
   "cell_type": "code",
   "execution_count": 20,
   "metadata": {
    "collapsed": true
   },
   "outputs": [],
   "source": [
    "outFile = open(\"Alexandria.csv\", \"wb\")\n",
    "writer = csv.writer(outFile)\n",
    "writer.writerow([\"Image\",\"Size\",\"Name\",\"Type\",\"Length\",\"Category\",\"Style\",\"Design Collection\",\"Specie\",\"Region\"])\n",
    "\n",
    "for i in range(len(links)):\n",
    "    link = links[i]\n",
    "    soup = BeautifulSoup(urlopen(links[i]).read())\n",
    "    body = soup.body\n",
    "    \n",
    "    image = body.find('img').get('src')\n",
    "    \n",
    "    size = body.find('p', attrs={'class':'align_c legend'}).get_text()\n",
    "    \n",
    "    name = body.find('h1').get_text()\n",
    "    \n",
    "    div = body.find('div',attrs={'style': 'width: 65%;'})\n",
    "    aType = div.find('p').get_text()\n",
    "    \n",
    "    table = body.find('table')\n",
    "    details = []\n",
    "    for td in table.findAll('td'):\n",
    "        if td.has_attr('class'):\n",
    "            pass\n",
    "        else:\n",
    "            details.append(td.get_text())\n",
    "            \n",
    "    writer.writerow([image,size,name,aType,details[0],details[1],details[2],details[3],details[4],details[5]])\n",
    "    \n",
    "outFile.close()"
   ]
  },
  {
   "cell_type": "markdown",
   "metadata": {},
   "source": [
    "###images"
   ]
  },
  {
   "cell_type": "code",
   "execution_count": 24,
   "metadata": {
    "collapsed": false
   },
   "outputs": [],
   "source": [
    "base = \"http://alexandriamoulding.com/\"\n",
    "for i in range(len(links)):\n",
    "    link = links[i]\n",
    "    soup = BeautifulSoup(urlopen(links[i]).read())\n",
    "    body = soup.body\n",
    "    image = body.find('img').get('src')\n",
    "    url = base + \"\\%s\" % image\n",
    "    imageName = re.search('(?<=entries/).*',image).group()\n",
    "    path = \"C:\\Users\\jason\\Documents\\GitHub\\Scraping\\Moulding\\Photos\"\n",
    "    \n",
    "    path = path + \"\\%s\" % imageName\n",
    "    urlretrieve(url,path)"
   ]
  },
  {
   "cell_type": "code",
   "execution_count": null,
   "metadata": {
    "collapsed": true
   },
   "outputs": [],
   "source": []
  }
 ],
 "metadata": {
  "kernelspec": {
   "display_name": "Python 2",
   "language": "python",
   "name": "python2"
  },
  "language_info": {
   "codemirror_mode": {
    "name": "ipython",
    "version": 2
   },
   "file_extension": ".py",
   "mimetype": "text/x-python",
   "name": "python",
   "nbconvert_exporter": "python",
   "pygments_lexer": "ipython2",
   "version": "2.7.9"
  }
 },
 "nbformat": 4,
 "nbformat_minor": 0
}
